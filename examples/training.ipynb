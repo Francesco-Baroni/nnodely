{
 "cells": [
  {
   "cell_type": "markdown",
   "metadata": {},
   "source": [
    "# NNodely Documentation - Training"
   ]
  },
  {
   "cell_type": "code",
   "execution_count": null,
   "metadata": {},
   "outputs": [],
   "source": [
    "# uncomment the command below to install the nnodely package\n",
    "#!pip install nnodely\n",
    "\n",
    "from nnodely import *\n",
    "from nnodely.relation import NeuObj\n",
    "import os"
   ]
  },
  {
   "cell_type": "code",
   "execution_count": null,
   "metadata": {},
   "outputs": [],
   "source": [
    "vehicle = nnodely(visualizer=MPLVisualizer(),seed=2, workspace=os.path.join(os.getcwd(), 'results'))\n",
    "\n",
    "# Dimensions of the layers\n",
    "n  = 25\n",
    "na = 21\n",
    "\n",
    "#Create neural model inputs\n",
    "velocity = State('vel')\n",
    "brake = Input('brk')\n",
    "gear = Input('gear')\n",
    "torque = Input('trq')\n",
    "altitude = Input('alt',dimensions=na)\n",
    "acc = Input('acc')\n",
    "\n",
    "# Create neural network relations\n",
    "air_drag_force = Linear(b=True)(velocity.last()**2)\n",
    "breaking_force = -Relu(Fir(W_init = init_negexp, W_init_params={'size_index':0, 'first_value':0.002, 'lambda':3})(brake.sw(n)))\n",
    "gravity_force = Linear(W_init=init_constant, W_init_params={'value':0}, dropout=0.1, W='gravity')(altitude.last())\n",
    "fuzzi_gear = Fuzzify(6, range=[2,7], functions='Rectangular')(gear.last())\n",
    "local_model = LocalModel(input_function=lambda: Fir(W_init = init_negexp, W_init_params={'size_index':0, 'first_value':0.002, 'lambda':3}))\n",
    "engine_force = local_model(torque.sw(n), fuzzi_gear)\n",
    "\n",
    "sum_rel = air_drag_force+breaking_force+gravity_force+engine_force\n",
    "\n",
    "# Closing the loop\n",
    "sum_rel.closedLoop(velocity)\n",
    "\n",
    "# Create neural network output\n",
    "out1 = Output('accelleration', sum_rel)\n",
    "out2 = Output('velout', altitude.sw(2))\n",
    "\n",
    "# Add the neural model to the nnodely structure and neuralization of the model\n",
    "vehicle.addModel('acc',[out1,out2])\n",
    "vehicle.addMinimize('acc_error', acc.last(), out1, loss_function='rmse')\n",
    "vehicle.neuralizeModel(0.05)"
   ]
  },
  {
   "cell_type": "markdown",
   "metadata": {},
   "source": [
    "## Feed-forward Training\n",
    "\n",
    "Use the 'trainModel' function to train a neuralized model. The function accept various arguments. you can decide which model to train (in case of a multi-model system) and what dataset to use.\n",
    "\n",
    "The 'splits' argument will use the previously dataset loaded in the framework and divide it in [train, validation, test] according to the percentage"
   ]
  },
  {
   "cell_type": "code",
   "execution_count": null,
   "metadata": {},
   "outputs": [],
   "source": [
    "vehicle.trainModel(models=['acc'], splits=[70,20,10])"
   ]
  },
  {
   "cell_type": "markdown",
   "metadata": {},
   "source": [
    "you can specify various training parameters such as the shuffling, batch size, learning rate and number of epochs..."
   ]
  },
  {
   "cell_type": "code",
   "execution_count": null,
   "metadata": {},
   "outputs": [],
   "source": [
    "vehicle.trainModel(models=['acc'], train_dataset='dataset_train', train_batch_size=8, val_batch_size=4, test_batch_size=1, num_of_epochs=10, lr=0.001, shuffle_data=True)"
   ]
  },
  {
   "cell_type": "markdown",
   "metadata": {},
   "source": [
    "## Recurrent Training\n",
    "\n",
    "The recurrent training can take place only when there are State variables, closed-loops or connections between inputs.\n",
    "\n",
    "In case of a recurrent training, other parameters can be specified such as the number of prediction window. This is used to select for how many steps doing the recurrent loop"
   ]
  },
  {
   "cell_type": "code",
   "execution_count": null,
   "metadata": {},
   "outputs": [],
   "source": [
    "vehicle.trainModel(models=['acc'], splits=[70,20,10], prediction_samples=10)"
   ]
  },
  {
   "cell_type": "markdown",
   "metadata": {},
   "source": [
    "The 'step' size is used to decide whether to skip samples at each epoch. this will ensure a faster training time expecially when the prediction window is too high."
   ]
  },
  {
   "cell_type": "code",
   "execution_count": null,
   "metadata": {},
   "outputs": [],
   "source": [
    "vehicle.trainModel(models=['acc'], splits=[70,20,10], prediction_samples=10, step=5)"
   ]
  },
  {
   "cell_type": "markdown",
   "metadata": {},
   "source": [
    "The 'closed_loop' and 'connect' arguments are used if you want to do a recurrent loop only during training time without having the needs for your network to keep the state of the system inside a State variable"
   ]
  },
  {
   "cell_type": "code",
   "execution_count": null,
   "metadata": {},
   "outputs": [],
   "source": [
    "vehicle.trainModel(models=['acc'], splits=[70,20,10], prediction_samples=10, step=5, connect={'velout': 'vel'})"
   ]
  },
  {
   "cell_type": "code",
   "execution_count": null,
   "metadata": {},
   "outputs": [],
   "source": [
    "vehicle.trainModel(models=['acc'], splits=[70,20,10], prediction_samples=10, step=5, closed_loop={'accelleration': 'acc'})"
   ]
  },
  {
   "cell_type": "markdown",
   "metadata": {},
   "source": [
    "## Set different weight for the minimization functions\n",
    "\n",
    "use the 'minimize_gain' attribute to modify the importance of certain minimization functions by passing a dictionary with the gain factor for each minimizers."
   ]
  },
  {
   "cell_type": "code",
   "execution_count": null,
   "metadata": {},
   "outputs": [],
   "source": [
    "vehicle.trainModel(train_dataset='dataset_train', num_of_epochs=10, lr=0.001, shuffle_data=True, minimize_gain={'acc_error':2})"
   ]
  },
  {
   "cell_type": "markdown",
   "metadata": {},
   "source": [
    "## Early stopping and Best Model\n",
    "\n",
    "Use one of the built-in early stopping and selection model functions or use a custom one. "
   ]
  },
  {
   "cell_type": "code",
   "execution_count": null,
   "metadata": {},
   "outputs": [],
   "source": [
    "from nnodely.earlystopping import early_stop_patience, select_best_model\n",
    "vehicle.trainModel(train_dataset='dataset_train', num_of_epochs=10, lr=0.001, shuffle_data=True, early_stopping=early_stop_patience, select_model=select_best_model)"
   ]
  }
 ],
 "metadata": {
  "kernelspec": {
   "display_name": "venv",
   "language": "python",
   "name": "python3"
  },
  "language_info": {
   "name": "python",
   "version": "3.11.4"
  }
 },
 "nbformat": 4,
 "nbformat_minor": 2
}
