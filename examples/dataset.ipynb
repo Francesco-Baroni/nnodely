{
 "cells": [
  {
   "cell_type": "markdown",
   "metadata": {},
   "source": [
    "# NNodely Documentation - Load Data\n",
    "\n",
    "Listed here are all the modalitites by which you can load data inside the nnodely framework.\n",
    "There are three modalities to load a dataset inside nnodely:\n",
    "1. Using a directory, each file represents a simulation, with time coherence between lines.\n",
    "2. Using a dictionary, each element in the dictionary represents a variable.\n",
    "3. Using a pandas dataframe."
   ]
  },
  {
   "cell_type": "code",
   "metadata": {
    "ExecuteTime": {
     "end_time": "2025-05-23T15:12:42.040429Z",
     "start_time": "2025-05-23T15:12:42.038592Z"
    }
   },
   "source": [
    "# uncomment the command below to install the nnodely package\n",
    "#!pip install nnodely\n",
    "\n",
    "from nnodely import *"
   ],
   "outputs": [],
   "execution_count": 7
  },
  {
   "cell_type": "markdown",
   "metadata": {},
   "source": "In the following lines a network is created."
  },
  {
   "cell_type": "code",
   "metadata": {
    "ExecuteTime": {
     "end_time": "2025-05-23T15:12:42.062845Z",
     "start_time": "2025-05-23T15:12:42.055231Z"
    }
   },
   "source": [
    "in1 = Input('in1')\n",
    "target = Input('target')\n",
    "relation = Fir(in1.tw(0.05))\n",
    "output = Output('out', relation)\n",
    "\n",
    "model = Modely(visualizer=TextVisualizer())\n",
    "model.addMinimize('out', output, target.last())\n",
    "model.neuralizeModel(0.01)"
   ],
   "outputs": [
    {
     "name": "stdout",
     "output_type": "stream",
     "text": [
      "\u001B[33m[check_names] The name 'in1' is already in defined as NeuObj but it is overwritten.\u001B[0m\n",
      "\u001B[33m[check_names] The name 'target' is already in defined as NeuObj but it is overwritten.\u001B[0m\n",
      "\u001B[33m[check_names] The name 'out' is already in defined as NeuObj but it is overwritten.\u001B[0m\n",
      "\u001B[1;32m================================ nnodely Model =================================\u001B[0m\n",
      "\u001B[32m{'Constants': {},\n",
      " 'Functions': {},\n",
      " 'Info': {'SampleTime': 0.01,\n",
      "          'nnodely_version': '1.4.0',\n",
      "          'ns': [5, 0],\n",
      "          'ntot': 5,\n",
      "          'num_parameters': 5},\n",
      " 'Inputs': {'in1': {'dim': 1, 'ns': [5, 0], 'ntot': 5, 'tw': [-0.05, 0]},\n",
      "            'target': {'dim': 1, 'ns': [1, 0], 'ntot': 1, 'sw': [-1, 0]}},\n",
      " 'Minimizers': {'out': {'A': 'Fir7', 'B': 'SamplePart9', 'loss': 'mse'}},\n",
      " 'Outputs': {'out': 'Fir7'},\n",
      " 'Parameters': {'PFir8W': {'dim': 1,\n",
      "                           'tw': 0.05,\n",
      "                           'values': [[0.272724449634552],\n",
      "                                      [0.1700739860534668],\n",
      "                                      [0.5756844878196716],\n",
      "                                      [0.6351728439331055],\n",
      "                                      [0.7724143266677856]]}},\n",
      " 'Relations': {'Fir7': ['Fir', ['TimePart6'], 'PFir8W', None, 0],\n",
      "               'SamplePart9': ['SamplePart', ['target'], -1, [-1, 0]],\n",
      "               'TimePart6': ['TimePart', ['in1'], -1, [-0.05, 0]]}}\u001B[0m\n",
      "\u001B[32m================================================================================\u001B[0m\n"
     ]
    }
   ],
   "execution_count": 8
  },
  {
   "metadata": {},
   "cell_type": "markdown",
   "source": [
    "## Load a dataset via directory\n",
    "\n",
    "Load a dataset inside the framework using a directory.\n",
    "\n",
    "You must specify a name for the dataset, the folder path and also the structure of the data so that the framework will know which column must be used for every input of the network."
   ]
  },
  {
   "cell_type": "code",
   "metadata": {
    "ExecuteTime": {
     "end_time": "2025-05-23T15:12:42.074739Z",
     "start_time": "2025-05-23T15:12:42.071157Z"
    }
   },
   "source": [
    "train_folder = 'data'\n",
    "data_struct = ['in1', '', 'target']\n",
    "model.loadData(name='dataset', source=train_folder, format=data_struct)"
   ],
   "outputs": [
    {
     "name": "stdout",
     "output_type": "stream",
     "text": [
      "\u001B[1;32m============================ nnodely Model Dataset =============================\u001B[0m\n",
      "\u001B[32mDataset Name:                 dataset\u001B[0m\n",
      "\u001B[32mNumber of files:              1\u001B[0m\n",
      "\u001B[32mTotal number of samples:      28\u001B[0m\n",
      "\u001B[32mShape of target:              (28, 1, 1)\u001B[0m\n",
      "\u001B[32mShape of in1:                 (28, 5, 1)\u001B[0m\n",
      "\u001B[32m================================================================================\u001B[0m\n"
     ]
    }
   ],
   "execution_count": 9
  },
  {
   "cell_type": "markdown",
   "metadata": {},
   "source": [
    "you can also specify various parameters such as the number of lines to skip, the delimiter to use between data and if you want to include the header of the file."
   ]
  },
  {
   "cell_type": "code",
   "metadata": {
    "ExecuteTime": {
     "end_time": "2025-05-23T15:12:42.089864Z",
     "start_time": "2025-05-23T15:12:42.086327Z"
    }
   },
   "source": [
    "model.loadData(name='dataset_2', source=train_folder, format=data_struct, skiplines=4, delimiter='\\t', header=None)"
   ],
   "outputs": [
    {
     "name": "stdout",
     "output_type": "stream",
     "text": [
      "\u001B[1;32m============================ nnodely Model Dataset =============================\u001B[0m\n",
      "\u001B[32mDataset Name:                 dataset_2\u001B[0m\n",
      "\u001B[32mNumber of files:              1\u001B[0m\n",
      "\u001B[32mTotal number of samples:      24\u001B[0m\n",
      "\u001B[32mShape of target:              (24, 1, 0)\u001B[0m\n",
      "\u001B[32mShape of in1:                 (24, 5, 1)\u001B[0m\n",
      "\u001B[32m================================================================================\u001B[0m\n"
     ]
    }
   ],
   "execution_count": 10
  },
  {
   "cell_type": "markdown",
   "metadata": {},
   "source": [
    "## Load a dataset from a custom dictionary\n",
    "\n",
    "you can build your own dataset with a dictionary containing all the necessary inputs of the network and passing it to the 'source' attribute"
   ]
  },
  {
   "cell_type": "code",
   "metadata": {
    "ExecuteTime": {
     "end_time": "2025-05-23T15:12:42.105958Z",
     "start_time": "2025-05-23T15:12:42.103427Z"
    }
   },
   "source": [
    "import numpy as np\n",
    "data_x = np.array(range(10))\n",
    "data_a = 2\n",
    "data_b = -3\n",
    "dataset = {'in1': data_x, 'target': (data_a*data_x) + data_b}\n",
    "\n",
    "model.loadData(name='dataset_3', source=dataset)"
   ],
   "outputs": [
    {
     "name": "stdout",
     "output_type": "stream",
     "text": [
      "\u001B[1;32m============================ nnodely Model Dataset =============================\u001B[0m\n",
      "\u001B[32mDataset Name:                 dataset_3\u001B[0m\n",
      "\u001B[32mNumber of files:              1\u001B[0m\n",
      "\u001B[32mTotal number of samples:      6\u001B[0m\n",
      "\u001B[32mShape of target:              (6, 1, 1)\u001B[0m\n",
      "\u001B[32mShape of in1:                 (6, 5, 1)\u001B[0m\n",
      "\u001B[32m================================================================================\u001B[0m\n"
     ]
    }
   ],
   "execution_count": 11
  },
  {
   "cell_type": "markdown",
   "metadata": {},
   "source": [
    "## Load a dataset from a pandas DataFrame\n",
    "\n",
    "you can also use a pandas dataframe as source for loading a dataset inside the nnodely framework"
   ]
  },
  {
   "cell_type": "code",
   "metadata": {
    "ExecuteTime": {
     "end_time": "2025-05-23T15:12:42.120615Z",
     "start_time": "2025-05-23T15:12:42.115651Z"
    }
   },
   "source": [
    "import pandas as pd\n",
    "# Create a DataFrame with random values for each input\n",
    "df = pd.DataFrame({\n",
    "    'in1': np.linspace(1,100,100, dtype=np.float32),\n",
    "    'target': np.linspace(1,100,100, dtype=np.float32)})\n",
    "\n",
    "model.loadData(name='dataset_4', source=df)"
   ],
   "outputs": [
    {
     "name": "stdout",
     "output_type": "stream",
     "text": [
      "\u001B[1;32m============================ nnodely Model Dataset =============================\u001B[0m\n",
      "\u001B[32mDataset Name:                 dataset_4\u001B[0m\n",
      "\u001B[32mNumber of files:              1\u001B[0m\n",
      "\u001B[32mTotal number of samples:      96\u001B[0m\n",
      "\u001B[32mShape of target:              (96, 1, 1)\u001B[0m\n",
      "\u001B[32mShape of in1:                 (96, 5, 1)\u001B[0m\n",
      "\u001B[32m================================================================================\u001B[0m\n"
     ]
    }
   ],
   "execution_count": 12
  },
  {
   "cell_type": "markdown",
   "metadata": {},
   "source": [
    "## Resampling a pandas DataFrame\n",
    "\n",
    "if you have a column representing time you can also use those values to resample the dataset using the sample time of the neuralized network"
   ]
  },
  {
   "cell_type": "code",
   "metadata": {
    "ExecuteTime": {
     "end_time": "2025-05-23T15:12:42.163037Z",
     "start_time": "2025-05-23T15:12:42.138083Z"
    }
   },
   "source": [
    "df = pd.DataFrame({\n",
    "    'time': np.array([1.0,1.5,2.0,4.0,4.5,5.0,7.0,7.5,8.0,8.5], dtype=np.float32),\n",
    "    'in1': np.linspace(1,10,10, dtype=np.float32),\n",
    "    'target': np.linspace(1,10,10, dtype=np.float32)})\n",
    "\n",
    "model.loadData(name='dataset_resampled', source=df, resampling=True)"
   ],
   "outputs": [
    {
     "name": "stdout",
     "output_type": "stream",
     "text": [
      "\u001B[1;32m============================ nnodely Model Dataset =============================\u001B[0m\n",
      "\u001B[32mDataset Name:                 dataset_resampled\u001B[0m\n",
      "\u001B[32mNumber of files:              1\u001B[0m\n",
      "\u001B[32mTotal number of samples:      747\u001B[0m\n",
      "\u001B[32mShape of target:              (747, 1, 1)\u001B[0m\n",
      "\u001B[32mShape of in1:                 (747, 5, 1)\u001B[0m\n",
      "\u001B[32m================================================================================\u001B[0m\n"
     ]
    }
   ],
   "execution_count": 13
  },
  {
   "cell_type": "markdown",
   "metadata": {},
   "source": [
    "## Get Samples from the Dataset\n",
    "\n",
    "Once a dataset is loaded, you can use it to get random samples from the dataset. Set the 'window' argument to choose the number of samples to get from the specific dataset, and 'index' for selecting a specific time instant."
   ]
  },
  {
   "cell_type": "code",
   "metadata": {
    "ExecuteTime": {
     "end_time": "2025-05-23T15:12:42.177737Z",
     "start_time": "2025-05-23T15:12:42.172613Z"
    }
   },
   "source": [
    "sample = model.getSamples(dataset='dataset_4', window=5)\n",
    "model(sample, sampled=True)"
   ],
   "outputs": [
    {
     "data": {
      "text/plain": [
       "{'out': [173.7154541015625,\n",
       "  176.1415252685547,\n",
       "  178.56759643554688,\n",
       "  180.99365234375,\n",
       "  183.41973876953125]}"
      ]
     },
     "execution_count": 14,
     "metadata": {},
     "output_type": "execute_result"
    }
   ],
   "execution_count": 14
  },
  {
   "metadata": {
    "ExecuteTime": {
     "end_time": "2025-05-23T15:12:42.192789Z",
     "start_time": "2025-05-23T15:12:42.191359Z"
    }
   },
   "cell_type": "code",
   "source": "",
   "outputs": [],
   "execution_count": null
  }
 ],
 "metadata": {
  "kernelspec": {
   "display_name": "venv",
   "language": "python",
   "name": "python3"
  },
  "language_info": {
   "codemirror_mode": {
    "name": "ipython",
    "version": 3
   },
   "file_extension": ".py",
   "mimetype": "text/x-python",
   "name": "python",
   "nbconvert_exporter": "python",
   "pygments_lexer": "ipython3",
   "version": "3.11.4"
  }
 },
 "nbformat": 4,
 "nbformat_minor": 2
}
