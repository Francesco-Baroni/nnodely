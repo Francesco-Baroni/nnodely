{
 "cells": [
  {
   "cell_type": "markdown",
   "metadata": {},
   "source": [
    "# NNodely Documentation - State Variables"
   ]
  },
  {
   "cell_type": "code",
   "execution_count": 8,
   "metadata": {},
   "outputs": [],
   "source": [
    "# uncomment the command below to install the nnodely package\n",
    "#!pip install nnodely\n",
    "\n",
    "from nnodely import *\n",
    "from nnodely.relation import NeuObj"
   ]
  },
  {
   "cell_type": "markdown",
   "metadata": {},
   "source": [
    "## Example 1 - State Definition\n",
    "\n",
    "Use the keyword 'State' to define a state variable (like you will do for an Input). You can specify the dimension of the variable."
   ]
  },
  {
   "cell_type": "code",
   "execution_count": 9,
   "metadata": {},
   "outputs": [],
   "source": [
    "x_state = State('x_state', dimensions=1)\n",
    "x_out = Fir(x_state.tw(0.5))"
   ]
  },
  {
   "cell_type": "markdown",
   "metadata": {},
   "source": [
    "## Example 2 - Closed Loop\n",
    "\n",
    "Every relation inside NNodely can update a state variable. closing a state in a loop means that at the end of each forward pass the result of the selected relation will update the selected state variable."
   ]
  },
  {
   "cell_type": "code",
   "execution_count": 11,
   "metadata": {},
   "outputs": [],
   "source": [
    "NeuObj.clearNames()\n",
    "x_out.closedLoop(x_state)\n",
    "out = Output('out',x_out)"
   ]
  },
  {
   "cell_type": "markdown",
   "metadata": {},
   "source": [
    "or you can use the ClosedLoop block"
   ]
  },
  {
   "cell_type": "code",
   "execution_count": 13,
   "metadata": {},
   "outputs": [],
   "source": [
    "NeuObj.clearNames()\n",
    "x_out = ClosedLoop(x_out, x_state)\n",
    "out = Output('out',x_out)"
   ]
  },
  {
   "cell_type": "markdown",
   "metadata": {},
   "source": [
    "or you can use the NNodely framework directly"
   ]
  },
  {
   "cell_type": "code",
   "execution_count": 14,
   "metadata": {},
   "outputs": [],
   "source": [
    "model = Modely()\n",
    "model.addClosedLoop(x_out, x_state)"
   ]
  },
  {
   "cell_type": "markdown",
   "metadata": {},
   "source": [
    "## Example 3 - Connect\n",
    "\n",
    "Every relation inside NNodely can update a state variable. connecting a relation to a state means that at each forward pass the result of the selected relation will immediately update the selected state variable.\n",
    "\n",
    "(Note: you must re-define the relation in order to change the update of the state variable)"
   ]
  },
  {
   "cell_type": "code",
   "execution_count": 17,
   "metadata": {},
   "outputs": [],
   "source": [
    "NeuObj.clearNames()\n",
    "x_out = Fir(x_state.tw(0.5))\n",
    "x_out.connect(x_state)\n",
    "out = Output('out',x_out)"
   ]
  },
  {
   "cell_type": "markdown",
   "metadata": {},
   "source": [
    "or you can use the Connect block"
   ]
  },
  {
   "cell_type": "code",
   "execution_count": 18,
   "metadata": {},
   "outputs": [],
   "source": [
    "NeuObj.clearNames()\n",
    "x_out = Connect(x_out, x_state)\n",
    "out = Output('out',x_out)"
   ]
  },
  {
   "cell_type": "markdown",
   "metadata": {},
   "source": [
    "or you can use the NNodely framework directly"
   ]
  },
  {
   "cell_type": "code",
   "execution_count": 19,
   "metadata": {},
   "outputs": [],
   "source": [
    "model = Modely()\n",
    "model.addConnect(x_out, x_state)"
   ]
  },
  {
   "cell_type": "markdown",
   "metadata": {},
   "source": [
    "## Example 4 - Recurrent Train\n",
    "\n",
    "In order to do a recurrent training of the network using the State variables is mandatory to specify the window of prediction (prediction_samples)."
   ]
  },
  {
   "cell_type": "code",
   "execution_count": 33,
   "metadata": {},
   "outputs": [
    {
     "name": "stdout",
     "output_type": "stream",
     "text": [
      "\u001b[1;32m================================ nnodely Model =================================\u001b[0m\n",
      "\u001b[32m{'Constants': {},\n",
      " 'Functions': {},\n",
      " 'Info': {'SampleTime': 0.1,\n",
      "          'nnodely_version': '1.3.1',\n",
      "          'ns': [5, 0],\n",
      "          'ntot': 5,\n",
      "          'num_parameters': 18},\n",
      " 'Inputs': {'x': {'dim': 3,\n",
      "                  'ns': [5, 0],\n",
      "                  'ntot': 5,\n",
      "                  'sw': [0, 0],\n",
      "                  'tw': [-0.5, 0]}},\n",
      " 'Minimizers': {'error': {'A': 'out', 'B': 'TimePart100', 'loss': 'mse'}},\n",
      " 'Models': 'model',\n",
      " 'Outputs': {'out': 'Add98'},\n",
      " 'Parameters': {'PLinear3W': {'dim': [3, 3]}, 'PLinear5W': {'dim': [3, 3]}},\n",
      " 'Relations': {'Add98': ['Add', ['Linear94', 'Linear97']],\n",
      "               'Linear94': ['Linear', ['TimePart93'], 'PLinear3W', None, 0],\n",
      "               'Linear97': ['Linear', ['TimePart96'], 'PLinear5W', None, 0],\n",
      "               'TimePart100': ['TimePart', ['x'], -1, [-0.5, 0]],\n",
      "               'TimePart93': ['TimePart', ['x_state'], -1, [-0.5, 0]],\n",
      "               'TimePart96': ['TimePart', ['y_state'], -1, [-0.5, 0]]},\n",
      " 'States': {'x_state': {'closedLoop': 'Linear94',\n",
      "                        'dim': 3,\n",
      "                        'ns': [5, 0],\n",
      "                        'ntot': 5,\n",
      "                        'sw': [0, 0],\n",
      "                        'tw': [-0.5, 0]},\n",
      "            'y_state': {'closedLoop': 'Linear97',\n",
      "                        'dim': 3,\n",
      "                        'ns': [5, 0],\n",
      "                        'ntot': 5,\n",
      "                        'sw': [0, 0],\n",
      "                        'tw': [-0.5, 0]}}}\u001b[0m\n",
      "\u001b[32m================================================================================\u001b[0m\n",
      "\u001b[1;32m============================ nnodely Model Dataset =============================\u001b[0m\n",
      "\u001b[32mDataset Name:                 dataset\u001b[0m\n",
      "\u001b[32mNumber of files:              1\u001b[0m\n",
      "\u001b[32mTotal number of samples:      196\u001b[0m\n",
      "\u001b[32mShape of x:                   (196, 5, 1)\u001b[0m\n",
      "\u001b[32m================================================================================\u001b[0m\n",
      "\u001b[33m[trainModel] Recurrent train: update States variables ['y_state', 'x_state'] for 3 samples\u001b[0m\n",
      "\u001b[1;32m======================== nnodely Model Train Parameters ========================\u001b[0m\n",
      "\u001b[32mmodels:                       ['model']\u001b[0m\n",
      "\u001b[32mnum of epochs:                1\u001b[0m\n",
      "\u001b[32mupdate per epochs:            33\u001b[0m\n",
      "\u001b[34m└>(n_samples-batch_size-prediction_samples+1)/(batch_size+step-1)+1\u001b[0m\n",
      "\u001b[32mprediction samples:           3\u001b[0m\n",
      "\u001b[32mstep:                         0\u001b[0m\n",
      "\u001b[32mclosed loop:                  {}\u001b[0m\n",
      "\u001b[32mconnect:                      {}\u001b[0m\n",
      "\u001b[32mtrain dataset:                train_dataset_0.70\u001b[0m\n",
      "\u001b[32m\t- num of samples:            137\u001b[0m\n",
      "\u001b[32m\t- batch size:                4\u001b[0m\n",
      "\u001b[32m\t- unused samples:            2\u001b[0m\n",
      "\u001b[34m\t  └>n_samples-prediction_samples-update_per_epochs*(batch_size+step-1)\u001b[0m\n",
      "\u001b[32mval dataset:                  validation_dataset_0.20\u001b[0m\n",
      "\u001b[32mval {batch size, samples}:    {4, 39}\u001b[0m\n",
      "\u001b[32mtest dataset:                 test_dataset_0.10\u001b[0m\n",
      "\u001b[32mtest {batch size, samples}:   {1, 20}\u001b[0m\n",
      "\u001b[32mminimizers:                   {'error': {'A': 'out',\n",
      "                                         'B': 'TimePart100',\n",
      "                                         'loss': 'mse'}}\u001b[0m\n",
      "\u001b[32moptimizer:                    Adam\u001b[0m\n",
      "\u001b[32moptimizer defaults:           {'lr': 0.01}\u001b[0m\n",
      "\u001b[32moptimizer params:             [{'params': 'PLinear3W'}, {'params': 'PLinear5W'}]\u001b[0m\n",
      "\u001b[32m================================================================================\u001b[0m\n",
      "\u001b[1;32m================= nnodely Training =================\u001b[0m\n",
      "\u001b[32m|  Epoch   |\u001b[0m\u001b[32m       error       |\u001b[0m\u001b[32m       Total       |\u001b[0m\n",
      "\u001b[32m|          |\u001b[0m\u001b[32m        Loss       |\u001b[0m\u001b[32m        Loss       |\u001b[0m\n",
      "\u001b[32m|          |\u001b[0m\u001b[32m  train  |\u001b[0m\u001b[32m   val   |\u001b[0m\u001b[32m  train  |\u001b[0m\u001b[32m   val   |\u001b[0m\n",
      "\u001b[32m|--------------------------------------------------|\u001b[0m\n",
      "\u001b[32m|   1/1    |\u001b[0m\u001b[32m6.437e+00|\u001b[0m\u001b[32m6.065e+00|\u001b[0m\u001b[32m6.437e+00|\u001b[0m\u001b[32m6.065e+00|\u001b[0m\n",
      "\u001b[32m|--------------------------------------------------|\u001b[0m\n",
      "\u001b[1;32m============================ nnodely Training Time =============================\u001b[0m\n",
      "\u001b[32mTotal time of Training:       0.11325860023498535\u001b[0m\n",
      "\u001b[32m================================================================================\u001b[0m\n",
      "\u001b[34mThe selected model is the LAST model of the training.\u001b[0m\n",
      "\u001b[1;32m=========== nnodely Model Results for train_dataset_0.70 ==========\u001b[0m\n",
      "\u001b[32m| Loss|\u001b[0m\u001b[32m        mse        |\u001b[0m\u001b[32m        FVU        |\u001b[0m\u001b[32m        AIC        |\u001b[0m\n",
      "\u001b[32m|     |\u001b[0m\u001b[32m    small better   |\u001b[0m\u001b[32m    small better   |\u001b[0m\u001b[32m    lower better   |\u001b[0m\n",
      "\u001b[32m|-----------------------------------------------------------------|\u001b[0m\n",
      "\u001b[32m|error|\u001b[0m\u001b[32m     6.632e+00     |\u001b[0m\u001b[32m        inf        |\u001b[0m\u001b[32m     6.635e+04     |\u001b[0m\n",
      "\u001b[32m|-----------------------------------------------------------------|\u001b[0m\n",
      "\u001b[32m|Total|\u001b[0m\u001b[32m     6.632e+00     |\u001b[0m\u001b[32m        inf        |\u001b[0m\u001b[32m     6.635e+04     |\u001b[0m\n",
      "\u001b[32m|-----------------------------------------------------------------|\u001b[0m\n",
      "\u001b[1;32m======== nnodely Model Results for validation_dataset_0.20 ========\u001b[0m\n",
      "\u001b[32m| Loss|\u001b[0m\u001b[32m        mse        |\u001b[0m\u001b[32m        FVU        |\u001b[0m\u001b[32m        AIC        |\u001b[0m\n",
      "\u001b[32m|     |\u001b[0m\u001b[32m    small better   |\u001b[0m\u001b[32m    small better   |\u001b[0m\u001b[32m    lower better   |\u001b[0m\n",
      "\u001b[32m|-----------------------------------------------------------------|\u001b[0m\n",
      "\u001b[32m|error|\u001b[0m\u001b[32m     6.065e+00     |\u001b[0m\u001b[32m        inf        |\u001b[0m\u001b[32m     1.940e+04     |\u001b[0m\n",
      "\u001b[32m|-----------------------------------------------------------------|\u001b[0m\n",
      "\u001b[32m|Total|\u001b[0m\u001b[32m     6.065e+00     |\u001b[0m\u001b[32m        inf        |\u001b[0m\u001b[32m     1.940e+04     |\u001b[0m\n",
      "\u001b[32m|-----------------------------------------------------------------|\u001b[0m\n",
      "\u001b[1;32m=========== nnodely Model Results for test_dataset_0.10 ===========\u001b[0m\n",
      "\u001b[32m| Loss|\u001b[0m\u001b[32m        mse        |\u001b[0m\u001b[32m        FVU        |\u001b[0m\u001b[32m        AIC        |\u001b[0m\n",
      "\u001b[32m|     |\u001b[0m\u001b[32m    small better   |\u001b[0m\u001b[32m    small better   |\u001b[0m\u001b[32m    lower better   |\u001b[0m\n",
      "\u001b[32m|-----------------------------------------------------------------|\u001b[0m\n",
      "\u001b[32m|error|\u001b[0m\u001b[32m     7.848e+00     |\u001b[0m\u001b[32m        inf        |\u001b[0m\u001b[32m     1.063e+04     |\u001b[0m\n",
      "\u001b[32m|-----------------------------------------------------------------|\u001b[0m\n",
      "\u001b[32m|Total|\u001b[0m\u001b[32m     7.848e+00     |\u001b[0m\u001b[32m        inf        |\u001b[0m\u001b[32m     1.063e+04     |\u001b[0m\n",
      "\u001b[32m|-----------------------------------------------------------------|\u001b[0m\n",
      "finale state:  {'y_state': tensor([[[0., 0., 0.],\n",
      "         [0., 0., 0.],\n",
      "         [0., 0., 0.],\n",
      "         [0., 0., 0.],\n",
      "         [0., 0., 0.]]], grad_fn=<CloneBackward0>), 'x_state': tensor([[[0., 0., 0.],\n",
      "         [0., 0., 0.],\n",
      "         [0., 0., 0.],\n",
      "         [0., 0., 0.],\n",
      "         [0., 0., 0.]]], grad_fn=<CloneBackward0>)}\n"
     ]
    },
    {
     "name": "stderr",
     "output_type": "stream",
     "text": [
      "c:\\Users\\User\\Desktop\\VSCodeProjects\\nnodely\\nnodely\\venv\\Lib\\site-packages\\torch\\nn\\modules\\loss.py:608: UserWarning: Using a target size (torch.Size([4, 5, 1])) that is different to the input size (torch.Size([4, 5, 3])). This will likely lead to incorrect results due to broadcasting. Please ensure they have the same size.\n",
      "  return F.mse_loss(input, target, reduction=self.reduction)\n",
      "c:\\Users\\User\\Desktop\\VSCodeProjects\\nnodely\\nnodely\\venv\\Lib\\site-packages\\torch\\nn\\modules\\loss.py:608: UserWarning: Using a target size (torch.Size([4, 5, 1])) that is different to the input size (torch.Size([4, 5, 3])). This will likely lead to incorrect results due to broadcasting. Please ensure they have the same size.\n",
      "  return F.mse_loss(input, target, reduction=self.reduction)\n",
      "c:\\Users\\User\\Desktop\\VSCodeProjects\\nnodely\\nnodely\\venv\\Lib\\site-packages\\torch\\nn\\modules\\loss.py:608: UserWarning: Using a target size (torch.Size([1, 5, 1])) that is different to the input size (torch.Size([1, 5, 3])). This will likely lead to incorrect results due to broadcasting. Please ensure they have the same size.\n",
      "  return F.mse_loss(input, target, reduction=self.reduction)\n"
     ]
    }
   ],
   "source": [
    "import numpy as np\n",
    "NeuObj.clearNames()\n",
    "x = Input('x', dimensions=3)\n",
    "x_state = State('x_state', dimensions=3)\n",
    "y_state = State('y_state', dimensions=3)\n",
    "x_out = Linear(output_dimension=3)(x_state.tw(0.5))\n",
    "y_out = Linear(output_dimension=3)(y_state.tw(0.5))\n",
    "x_out.closedLoop(x_state)\n",
    "y_out.closedLoop(y_state)\n",
    "out = Output('out',x_out+y_out)\n",
    "\n",
    "test = Modely(seed=42)\n",
    "test.addModel('model', out)\n",
    "test.addMinimize('error', out, x.tw(0.5))\n",
    "\n",
    "test.neuralizeModel(0.1)\n",
    "\n",
    "dataset = {'x':np.random.uniform(1,4,200)}\n",
    "test.loadData(name='dataset', source=dataset)\n",
    "\n",
    "# Training non ricorrente\n",
    "params = {'num_of_epochs': 1, 'train_batch_size': 4, 'val_batch_size':4, 'test_batch_size':1, 'lr':0.01}\n",
    "test.trainModel(splits=[70,20,10], prediction_samples=3, shuffle_data=False, training_params=params)\n",
    "print('finale state: ', test.states)"
   ]
  },
  {
   "cell_type": "markdown",
   "metadata": {},
   "source": [
    "## Example 5 - Clear State\n",
    "\n",
    "use the specific function to manually clear the state of a state variable"
   ]
  },
  {
   "cell_type": "code",
   "execution_count": 34,
   "metadata": {},
   "outputs": [
    {
     "name": "stdout",
     "output_type": "stream",
     "text": [
      "finale state:  {'y_state': tensor([[[0., 0., 0.],\n",
      "         [0., 0., 0.],\n",
      "         [0., 0., 0.],\n",
      "         [0., 0., 0.],\n",
      "         [0., 0., 0.]]]), 'x_state': tensor([[[0., 0., 0.],\n",
      "         [0., 0., 0.],\n",
      "         [0., 0., 0.],\n",
      "         [0., 0., 0.],\n",
      "         [0., 0., 0.]]])}\n"
     ]
    }
   ],
   "source": [
    "test.resetStates()\n",
    "print('finale state: ', test.states)"
   ]
  },
  {
   "cell_type": "markdown",
   "metadata": {},
   "source": [
    "## Example 6 - State at training time\n",
    "\n",
    "States variables can also be created at training time. These variables will exist only during the training process.\n",
    "\n",
    "To create the you have to define a dictionary containing {input:output}. In that case, the 'input' will become a state during the training process and the 'output' will be the relation updating it."
   ]
  },
  {
   "cell_type": "code",
   "execution_count": 35,
   "metadata": {},
   "outputs": [
    {
     "name": "stdout",
     "output_type": "stream",
     "text": [
      "\u001b[1;32m================================ nnodely Model =================================\u001b[0m\n",
      "\u001b[32m{'Constants': {},\n",
      " 'Functions': {},\n",
      " 'Info': {'SampleTime': 0.1,\n",
      "          'nnodely_version': '1.3.1',\n",
      "          'ns': [5, 0],\n",
      "          'ntot': 5,\n",
      "          'num_parameters': 18},\n",
      " 'Inputs': {'x': {'dim': 3,\n",
      "                  'ns': [5, 0],\n",
      "                  'ntot': 5,\n",
      "                  'sw': [0, 0],\n",
      "                  'tw': [-0.5, 0]},\n",
      "            'x_s': {'dim': 3,\n",
      "                    'ns': [5, 0],\n",
      "                    'ntot': 5,\n",
      "                    'sw': [0, 0],\n",
      "                    'tw': [-0.5, 0]},\n",
      "            'y_s': {'dim': 3,\n",
      "                    'ns': [5, 0],\n",
      "                    'ntot': 5,\n",
      "                    'sw': [0, 0],\n",
      "                    'tw': [-0.5, 0]}},\n",
      " 'Minimizers': {'error': {'A': 'out', 'B': 'TimePart109', 'loss': 'mse'}},\n",
      " 'Models': 'model',\n",
      " 'Outputs': {'out': 'Add107', 'out_x': 'Linear103', 'out_y': 'Linear106'},\n",
      " 'Parameters': {'PLinear3W': {'dim': [3, 3]}, 'PLinear5W': {'dim': [3, 3]}},\n",
      " 'Relations': {'Add107': ['Add', ['Linear103', 'Linear106']],\n",
      "               'Linear103': ['Linear', ['TimePart102'], 'PLinear3W', None, 0],\n",
      "               'Linear106': ['Linear', ['TimePart105'], 'PLinear5W', None, 0],\n",
      "               'TimePart102': ['TimePart', ['x_s'], -1, [-0.5, 0]],\n",
      "               'TimePart105': ['TimePart', ['y_s'], -1, [-0.5, 0]],\n",
      "               'TimePart109': ['TimePart', ['x'], -1, [-0.5, 0]]},\n",
      " 'States': {}}\u001b[0m\n",
      "\u001b[32m================================================================================\u001b[0m\n",
      "\u001b[1;32m============================ nnodely Model Dataset =============================\u001b[0m\n",
      "\u001b[32mDataset Name:                 dataset\u001b[0m\n",
      "\u001b[32mNumber of files:              1\u001b[0m\n",
      "\u001b[32mTotal number of samples:      96\u001b[0m\n",
      "\u001b[32mShape of x:                   (96, 5, 1)\u001b[0m\n",
      "\u001b[32m================================================================================\u001b[0m\n",
      "\u001b[33m[trainModel] Recurrent train: closing the loop between the the input ports x_s and the output ports out_x for 3 samples\u001b[0m\n"
     ]
    },
    {
     "name": "stdout",
     "output_type": "stream",
     "text": [
      "\u001b[33m[trainModel] Recurrent train: closing the loop between the the input ports y_s and the output ports out_y for 3 samples\u001b[0m\n",
      "\u001b[1;32m======================== nnodely Model Train Parameters ========================\u001b[0m\n",
      "\u001b[32mmodels:                       ['model']\u001b[0m\n",
      "\u001b[32mnum of epochs:                10\u001b[0m\n",
      "\u001b[32mupdate per epochs:            16\u001b[0m\n",
      "\u001b[34m└>(n_samples-batch_size-prediction_samples+1)/(batch_size+step-1)+1\u001b[0m\n",
      "\u001b[32mprediction samples:           3\u001b[0m\n",
      "\u001b[32mstep:                         0\u001b[0m\n",
      "\u001b[32mclosed loop:                  {'x_s': 'out_x', 'y_s': 'out_y'}\u001b[0m\n",
      "\u001b[32mconnect:                      {}\u001b[0m\n",
      "\u001b[32mtrain dataset:                train_dataset_0.70\u001b[0m\n",
      "\u001b[32m\t- num of samples:            67\u001b[0m\n",
      "\u001b[32m\t- batch size:                4\u001b[0m\n",
      "\u001b[32m\t- unused samples:            0\u001b[0m\n",
      "\u001b[34m\t  └>n_samples-prediction_samples-update_per_epochs*(batch_size+step-1)\u001b[0m\n",
      "\u001b[32mval dataset:                  validation_dataset_0.20\u001b[0m\n",
      "\u001b[32mval {batch size, samples}:    {4, 19}\u001b[0m\n",
      "\u001b[32mtest dataset:                 test_dataset_0.10\u001b[0m\n",
      "\u001b[32mtest {batch size, samples}:   {1, 10}\u001b[0m\n",
      "\u001b[32mminimizers:                   {'error': {'A': 'out',\n",
      "                                         'B': 'TimePart109',\n",
      "                                         'loss': 'mse'}}\u001b[0m\n",
      "\u001b[32moptimizer:                    Adam\u001b[0m\n",
      "\u001b[32moptimizer defaults:           {'lr': 0.01}\u001b[0m\n",
      "\u001b[32moptimizer params:             [{'params': 'PLinear3W'}, {'params': 'PLinear5W'}]\u001b[0m\n",
      "\u001b[32m================================================================================\u001b[0m\n",
      "\u001b[1;32m================= nnodely Training =================\u001b[0m\n",
      "\u001b[32m|  Epoch   |\u001b[0m\u001b[32m       error       |\u001b[0m\u001b[32m       Total       |\u001b[0m\n",
      "\u001b[32m|          |\u001b[0m\u001b[32m        Loss       |\u001b[0m\u001b[32m        Loss       |\u001b[0m\n",
      "\u001b[32m|          |\u001b[0m\u001b[32m  train  |\u001b[0m\u001b[32m   val   |\u001b[0m\u001b[32m  train  |\u001b[0m\u001b[32m   val   |\u001b[0m\n",
      "\u001b[32m|--------------------------------------------------|\u001b[0m\n",
      "\u001b[32m|   1/10   |\u001b[0m\u001b[32m6.421e+00|\u001b[0m\u001b[32m6.608e+00|\u001b[0m\u001b[32m6.421e+00|\u001b[0m\u001b[32m6.608e+00|\u001b[0m\n",
      "\u001b[32m|   2/10   |\u001b[0m\u001b[32m6.421e+00|\u001b[0m\u001b[32m6.608e+00|\u001b[0m\u001b[32m6.421e+00|\u001b[0m\u001b[32m6.608e+00|\u001b[0m\n",
      "\u001b[32m|   3/10   |\u001b[0m\u001b[32m6.421e+00|\u001b[0m\u001b[32m6.608e+00|\u001b[0m\u001b[32m6.421e+00|\u001b[0m\u001b[32m6.608e+00|\u001b[0m\n"
     ]
    },
    {
     "name": "stderr",
     "output_type": "stream",
     "text": [
      "c:\\Users\\User\\Desktop\\VSCodeProjects\\nnodely\\nnodely\\venv\\Lib\\site-packages\\torch\\nn\\modules\\loss.py:608: UserWarning: Using a target size (torch.Size([4, 5, 1])) that is different to the input size (torch.Size([4, 5, 3])). This will likely lead to incorrect results due to broadcasting. Please ensure they have the same size.\n",
      "  return F.mse_loss(input, target, reduction=self.reduction)\n"
     ]
    },
    {
     "name": "stdout",
     "output_type": "stream",
     "text": [
      "\u001b[32m|   4/10   |\u001b[0m\u001b[32m6.421e+00|\u001b[0m\u001b[32m6.608e+00|\u001b[0m\u001b[32m6.421e+00|\u001b[0m\u001b[32m6.608e+00|\u001b[0m\n",
      "\u001b[32m|   5/10   |\u001b[0m\u001b[32m6.421e+00|\u001b[0m\u001b[32m6.608e+00|\u001b[0m\u001b[32m6.421e+00|\u001b[0m\u001b[32m6.608e+00|\u001b[0m\n",
      "\u001b[32m|   6/10   |\u001b[0m\u001b[32m6.421e+00|\u001b[0m\u001b[32m6.608e+00|\u001b[0m\u001b[32m6.421e+00|\u001b[0m\u001b[32m6.608e+00|\u001b[0m\n",
      "\u001b[32m|   7/10   |\u001b[0m\u001b[32m6.421e+00|\u001b[0m\u001b[32m6.608e+00|\u001b[0m\u001b[32m6.421e+00|\u001b[0m\u001b[32m6.608e+00|\u001b[0m\n",
      "\u001b[32m|   8/10   |\u001b[0m\u001b[32m6.421e+00|\u001b[0m\u001b[32m6.608e+00|\u001b[0m\u001b[32m6.421e+00|\u001b[0m\u001b[32m6.608e+00|\u001b[0m\n",
      "\u001b[32m|   9/10   |\u001b[0m\u001b[32m6.421e+00|\u001b[0m\u001b[32m6.608e+00|\u001b[0m\u001b[32m6.421e+00|\u001b[0m\u001b[32m6.608e+00|\u001b[0m\n",
      "\u001b[32m|  10/10   |\u001b[0m\u001b[32m6.421e+00|\u001b[0m\u001b[32m6.608e+00|\u001b[0m\u001b[32m6.421e+00|\u001b[0m\u001b[32m6.608e+00|\u001b[0m\n",
      "\u001b[32m|--------------------------------------------------|\u001b[0m\n",
      "\u001b[1;32m============================ nnodely Training Time =============================\u001b[0m\n",
      "\u001b[32mTotal time of Training:       0.49455714225769043\u001b[0m\n",
      "\u001b[32m================================================================================\u001b[0m\n",
      "\u001b[34mThe selected model is the LAST model of the training.\u001b[0m\n",
      "\u001b[1;32m=========== nnodely Model Results for train_dataset_0.70 ==========\u001b[0m\n",
      "\u001b[32m| Loss|\u001b[0m\u001b[32m        mse        |\u001b[0m\u001b[32m        FVU        |\u001b[0m\u001b[32m        AIC        |\u001b[0m\n",
      "\u001b[32m|     |\u001b[0m\u001b[32m    small better   |\u001b[0m\u001b[32m    small better   |\u001b[0m\u001b[32m    lower better   |\u001b[0m\n",
      "\u001b[32m|-----------------------------------------------------------------|\u001b[0m\n",
      "\u001b[32m|error|\u001b[0m\u001b[32m     6.421e+00     |\u001b[0m\u001b[32m        inf        |\u001b[0m\u001b[32m     3.119e+04     |\u001b[0m\n",
      "\u001b[32m|-----------------------------------------------------------------|\u001b[0m\n",
      "\u001b[32m|Total|\u001b[0m\u001b[32m     6.421e+00     |\u001b[0m\u001b[32m        inf        |\u001b[0m\u001b[32m     3.119e+04     |\u001b[0m\n",
      "\u001b[32m|-----------------------------------------------------------------|\u001b[0m\n",
      "\u001b[1;32m======== nnodely Model Results for validation_dataset_0.20 ========\u001b[0m\n",
      "\u001b[32m| Loss|\u001b[0m\u001b[32m        mse        |\u001b[0m\u001b[32m        FVU        |\u001b[0m\u001b[32m        AIC        |\u001b[0m\n",
      "\u001b[32m|     |\u001b[0m\u001b[32m    small better   |\u001b[0m\u001b[32m    small better   |\u001b[0m\u001b[32m    lower better   |\u001b[0m\n",
      "\u001b[32m|-----------------------------------------------------------------|\u001b[0m\n",
      "\u001b[32m|error|\u001b[0m\u001b[32m     6.608e+00     |\u001b[0m\u001b[32m        inf        |\u001b[0m\u001b[32m     7.713e+03     |\u001b[0m\n",
      "\u001b[32m|-----------------------------------------------------------------|\u001b[0m\n",
      "\u001b[32m|Total|\u001b[0m\u001b[32m     6.608e+00     |\u001b[0m\u001b[32m        inf        |\u001b[0m\u001b[32m     7.713e+03     |\u001b[0m\n",
      "\u001b[32m|-----------------------------------------------------------------|\u001b[0m\n",
      "\u001b[1;32m=========== nnodely Model Results for test_dataset_0.10 ===========\u001b[0m\n",
      "\u001b[32m| Loss|\u001b[0m\u001b[32m        mse        |\u001b[0m\u001b[32m        FVU        |\u001b[0m\u001b[32m        AIC        |\u001b[0m\n",
      "\u001b[32m|     |\u001b[0m\u001b[32m    small better   |\u001b[0m\u001b[32m    small better   |\u001b[0m\u001b[32m    lower better   |\u001b[0m\n",
      "\u001b[32m|-----------------------------------------------------------------|\u001b[0m\n",
      "\u001b[32m|error|\u001b[0m\u001b[32m     7.748e+00     |\u001b[0m\u001b[32m        inf        |\u001b[0m\u001b[32m     7.668e+03     |\u001b[0m\n",
      "\u001b[32m|-----------------------------------------------------------------|\u001b[0m\n",
      "\u001b[32m|Total|\u001b[0m\u001b[32m     7.748e+00     |\u001b[0m\u001b[32m        inf        |\u001b[0m\u001b[32m     7.668e+03     |\u001b[0m\n",
      "\u001b[32m|-----------------------------------------------------------------|\u001b[0m\n",
      "finale state:  {}\n"
     ]
    },
    {
     "name": "stderr",
     "output_type": "stream",
     "text": [
      "c:\\Users\\User\\Desktop\\VSCodeProjects\\nnodely\\nnodely\\venv\\Lib\\site-packages\\torch\\nn\\modules\\loss.py:608: UserWarning: Using a target size (torch.Size([4, 5, 1])) that is different to the input size (torch.Size([4, 5, 3])). This will likely lead to incorrect results due to broadcasting. Please ensure they have the same size.\n",
      "  return F.mse_loss(input, target, reduction=self.reduction)\n",
      "c:\\Users\\User\\Desktop\\VSCodeProjects\\nnodely\\nnodely\\venv\\Lib\\site-packages\\torch\\nn\\modules\\loss.py:608: UserWarning: Using a target size (torch.Size([1, 5, 1])) that is different to the input size (torch.Size([1, 5, 3])). This will likely lead to incorrect results due to broadcasting. Please ensure they have the same size.\n",
      "  return F.mse_loss(input, target, reduction=self.reduction)\n"
     ]
    }
   ],
   "source": [
    "import numpy as np\n",
    "NeuObj.clearNames()\n",
    "x = Input('x', dimensions=3)\n",
    "x_s = Input('x_s', dimensions=3)\n",
    "y_s = Input('y_s', dimensions=3)\n",
    "x_out = Linear(output_dimension=3)(x_s.tw(0.5))\n",
    "y_out = Linear(output_dimension=3)(y_s.tw(0.5))\n",
    "out = Output('out',x_out+y_out)\n",
    "out_x = Output('out_x',x_out)\n",
    "out_y = Output('out_y',y_out)\n",
    "\n",
    "test = Modely(seed=42)\n",
    "test.addModel('model', [out,out_x,out_y])\n",
    "test.addMinimize('error', out, x.tw(0.5))\n",
    "\n",
    "test.neuralizeModel(0.1)\n",
    "\n",
    "dataset = {'x':np.random.uniform(1,4,100)}\n",
    "test.loadData(name='dataset', source=dataset)\n",
    "\n",
    "# Training non ricorrente\n",
    "params = {'num_of_epochs': 10, 'train_batch_size': 4, 'val_batch_size':4, 'test_batch_size':1, 'lr':0.01}\n",
    "test.trainModel(splits=[70,20,10], prediction_samples=3, shuffle_data=False, closed_loop={'x_s':'out_x','y_s':'out_y'}, training_params=params)\n",
    "print('finale state: ', test.states)"
   ]
  },
  {
   "cell_type": "markdown",
   "metadata": {},
   "source": [
    "## Example 7 - Simple One Pole Convergence"
   ]
  },
  {
   "cell_type": "code",
   "execution_count": 36,
   "metadata": {},
   "outputs": [
    {
     "name": "stdout",
     "output_type": "stream",
     "text": [
      "\u001b[1;32m================================ nnodely Model =================================\u001b[0m\n",
      "\u001b[32m{'Constants': {'SampleTime': {'dim': 1, 'values': 0.1}},\n",
      " 'Functions': {},\n",
      " 'Info': {'SampleTime': 0.1,\n",
      "          'nnodely_version': '1.3.1',\n",
      "          'ns': [1, 0],\n",
      "          'ntot': 1,\n",
      "          'num_parameters': 0},\n",
      " 'Inputs': {'x': {'dim': 1,\n",
      "                  'ns': [1, 0],\n",
      "                  'ntot': 1,\n",
      "                  'sw': [-1, 0],\n",
      "                  'tw': [0, 0]}},\n",
      " 'Minimizers': {},\n",
      " 'Models': 'out',\n",
      " 'Outputs': {'pole': 'Add119'},\n",
      " 'Parameters': {},\n",
      " 'Relations': {'Add119': ['Add', ['SamplePart116', 'Mul118']],\n",
      "               'Mul118': ['Mul', ['Sub114', 'SampleTime']],\n",
      "               'SamplePart111': ['SamplePart', ['x'], -1, [-1, 0]],\n",
      "               'SamplePart113': ['SamplePart', ['x_state'], -1, [-1, 0]],\n",
      "               'SamplePart116': ['SamplePart', ['Sub114_int2'], -1, [-1, 0]],\n",
      "               'Sub114': ['Sub', ['SamplePart111', 'SamplePart113']]},\n",
      " 'States': {'Sub114_int2': {'closedLoop': 'Add119',\n",
      "                            'dim': 1,\n",
      "                            'ns': [1, 0],\n",
      "                            'ntot': 1,\n",
      "                            'sw': [-1, 0],\n",
      "                            'tw': [0, 0]},\n",
      "            'x_state': {'closedLoop': 'Add119',\n",
      "                        'dim': 1,\n",
      "                        'ns': [1, 0],\n",
      "                        'ntot': 1,\n",
      "                        'sw': [-1, 0],\n",
      "                        'tw': [0, 0]}}}\u001b[0m\n",
      "\u001b[32m================================================================================\u001b[0m\n"
     ]
    }
   ],
   "source": [
    "NeuObj.clearNames()\n",
    "x = Input('x')\n",
    "xs = State('x_state')\n",
    "int = Integrate((x.last()-xs.last()))\n",
    "int.closedLoop(xs)\n",
    "out = Output('pole',int)\n",
    "integrator = Modely()\n",
    "integrator.addModel('out', out)\n",
    "integrator.neuralizeModel(0.1)"
   ]
  }
 ],
 "metadata": {
  "kernelspec": {
   "display_name": "venv",
   "language": "python",
   "name": "python3"
  },
  "language_info": {
   "codemirror_mode": {
    "name": "ipython",
    "version": 3
   },
   "file_extension": ".py",
   "mimetype": "text/x-python",
   "name": "python",
   "nbconvert_exporter": "python",
   "pygments_lexer": "ipython3",
   "version": "3.11.4"
  }
 },
 "nbformat": 4,
 "nbformat_minor": 2
}
