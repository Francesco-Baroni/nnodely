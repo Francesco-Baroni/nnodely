{
 "cells": [
  {
   "cell_type": "markdown",
   "metadata": {},
   "source": [
    "# NNodely Documentation - Equation Learner Layer\n",
    "\n",
    "Represents a nnodely implementation of the Task-Parametrized Equation Learner block.\n",
    "\n",
    "Official Paper: [Task-Parametrized Equation Learner](https://www.sciencedirect.com/science/article/pii/S0921889022001981)"
   ]
  },
  {
   "cell_type": "code",
   "metadata": {
    "ExecuteTime": {
     "end_time": "2025-05-23T14:57:27.903804Z",
     "start_time": "2025-05-23T14:57:26.724109Z"
    }
   },
   "source": [
    "# uncomment the command below to install the nnodely package\n",
    "#!pip install nnodely\n",
    "\n",
    "from nnodely import *"
   ],
   "outputs": [
    {
     "name": "stdout",
     "output_type": "stream",
     "text": [
      ">>>>>>>>>>>>>>>>>>>>>>>>>>>>>>-- nnodely_v1.4.0 --<<<<<<<<<<<<<<<<<<<<<<<<<<<<<<\n"
     ]
    }
   ],
   "execution_count": 1
  },
  {
   "cell_type": "markdown",
   "metadata": {},
   "source": [
    "## Basic Usage\n",
    "Create an simple equation learner block using nnodely trigonometric functions (Tan, Sin, Cos). The initial linear layer is created using random initialization."
   ]
  },
  {
   "metadata": {
    "ExecuteTime": {
     "end_time": "2025-05-23T14:57:29.380725Z",
     "start_time": "2025-05-23T14:57:29.374341Z"
    }
   },
   "cell_type": "code",
   "source": "Input('x')",
   "outputs": [
    {
     "data": {
      "text/plain": [
       "\u001B[1;32m==================================== Input =====================================\u001B[0m\n",
       "\u001B[32m{'Constants': {},\n",
       " 'Functions': {},\n",
       " 'Info': {},\n",
       " 'Inputs': {'x': {'dim': 1}},\n",
       " 'Outputs': {},\n",
       " 'Parameters': {},\n",
       " 'Relations': {}}\u001B[0m\n",
       "\u001B[1;32m--------------------------------- x {'dim': 1} ---------------------------------\u001B[0m"
      ]
     },
     "execution_count": 2,
     "metadata": {},
     "output_type": "execute_result"
    }
   ],
   "execution_count": 2
  },
  {
   "cell_type": "code",
   "metadata": {
    "ExecuteTime": {
     "end_time": "2025-05-23T14:57:39.602904Z",
     "start_time": "2025-05-23T14:57:39.592189Z"
    }
   },
   "source": [
    "x = Input('x')\n",
    "equation_learner = EquationLearner(functions=[Tan, Sin, Cos])\n",
    "Output('out',equation_learner(x.last()))"
   ],
   "outputs": [
    {
     "name": "stdout",
     "output_type": "stream",
     "text": [
      "\u001B[33m[check_names] The name 'x' is already in defined as NeuObj but it is overwritten.\u001B[0m\n"
     ]
    },
    {
     "data": {
      "text/plain": [
       "\u001B[1;32m==================================== Output ====================================\u001B[0m\n",
       "\u001B[32m{'Constants': {},\n",
       " 'Functions': {},\n",
       " 'Info': {},\n",
       " 'Inputs': {'x': {'dim': 1, 'sw': [-1, 0]}},\n",
       " 'Outputs': {'out': 'Concatenate10'},\n",
       " 'Parameters': {'PLinear4W': {'dim': [1, 3]}, 'PLinear4b': {'dim': 3}},\n",
       " 'Relations': {'Concatenate10': ['Concatenate', ['Concatenate7', 'Cos9']],\n",
       "               'Concatenate7': ['Concatenate', ['Tan4', 'Sin6']],\n",
       "               'Cos9': ['Cos', ['Select8']],\n",
       "               'Linear2': ['Linear',\n",
       "                           ['SamplePart1'],\n",
       "                           'PLinear4W',\n",
       "                           'PLinear4b',\n",
       "                           0],\n",
       "               'SamplePart1': ['SamplePart', ['x'], -1, [-1, 0]],\n",
       "               'Select3': ['Select', ['Linear2'], 3, 0],\n",
       "               'Select5': ['Select', ['Linear2'], 3, 1],\n",
       "               'Select8': ['Select', ['Linear2'], 3, 2],\n",
       "               'Sin6': ['Sin', ['Select5']],\n",
       "               'Tan4': ['Tan', ['Select3']]}}\u001B[0m\n",
       "\u001B[1;32m--------------------------- out {'dim': 3, 'sw': 1} ----------------------------\u001B[0m"
      ]
     },
     "execution_count": 3,
     "metadata": {},
     "output_type": "execute_result"
    }
   ],
   "execution_count": 3
  },
  {
   "cell_type": "markdown",
   "metadata": {},
   "source": [
    "## Input layer\n",
    "Create an simple equation learner block using nnodely trigonometric functions and passing an input layer. In this case the 'output_dimension' must match the sum of number of inputs of the activation functions."
   ]
  },
  {
   "cell_type": "code",
   "metadata": {
    "ExecuteTime": {
     "end_time": "2025-05-23T14:57:58.313163Z",
     "start_time": "2025-05-23T14:57:58.301945Z"
    }
   },
   "source": [
    "x = Input('x')\n",
    "input_layer = Linear(output_dimension=3)\n",
    "equation_learner = EquationLearner(functions=[Tan, Sin, Cos], linear_in=input_layer)\n",
    "Output('out', equation_learner(x.last()))"
   ],
   "outputs": [
    {
     "name": "stdout",
     "output_type": "stream",
     "text": [
      "\u001B[33m[check_names] The name 'x' is already in defined as NeuObj but it is overwritten.\u001B[0m\n",
      "\u001B[33m[check_names] The name 'out' is already in defined as NeuObj but it is overwritten.\u001B[0m\n"
     ]
    },
    {
     "data": {
      "text/plain": [
       "\u001B[1;32m==================================== Output ====================================\u001B[0m\n",
       "\u001B[32m{'Constants': {},\n",
       " 'Functions': {},\n",
       " 'Info': {},\n",
       " 'Inputs': {'x': {'dim': 1, 'sw': [-1, 0]}},\n",
       " 'Outputs': {'out': 'Concatenate21'},\n",
       " 'Parameters': {'PLinear9W': {'dim': [1, 3]}},\n",
       " 'Relations': {'Concatenate18': ['Concatenate', ['Tan15', 'Sin17']],\n",
       "               'Concatenate21': ['Concatenate', ['Concatenate18', 'Cos20']],\n",
       "               'Cos20': ['Cos', ['Select19']],\n",
       "               'Linear13': ['Linear', ['SamplePart12'], 'PLinear9W', None, 0],\n",
       "               'SamplePart12': ['SamplePart', ['x'], -1, [-1, 0]],\n",
       "               'Select14': ['Select', ['Linear13'], 3, 0],\n",
       "               'Select16': ['Select', ['Linear13'], 3, 1],\n",
       "               'Select19': ['Select', ['Linear13'], 3, 2],\n",
       "               'Sin17': ['Sin', ['Select16']],\n",
       "               'Tan15': ['Tan', ['Select14']]}}\u001B[0m\n",
       "\u001B[1;32m--------------------------- out {'dim': 3, 'sw': 1} ----------------------------\u001B[0m"
      ]
     },
     "execution_count": 4,
     "metadata": {},
     "output_type": "execute_result"
    }
   ],
   "execution_count": 4
  },
  {
   "cell_type": "markdown",
   "metadata": {},
   "source": [
    "## Input layer and output layer\n",
    "Create an simple equation learner block using nnodely trigonometric functions and passing an input layer and also a linear output layer\n",
    "\n",
    "(By default, there is no linear output layer)"
   ]
  },
  {
   "cell_type": "code",
   "metadata": {
    "ExecuteTime": {
     "end_time": "2025-05-23T14:58:27.298498Z",
     "start_time": "2025-05-23T14:58:27.289645Z"
    }
   },
   "source": [
    "x = Input('x')\n",
    "input_layer = Linear(output_dimension=3)\n",
    "output_layer = Linear(output_dimension=1)\n",
    "equation_learner = EquationLearner(functions=[Tan, Sin, Cos], linear_in=input_layer, linear_out=output_layer)\n",
    "Output('out', equation_learner(x.last()))"
   ],
   "outputs": [
    {
     "name": "stdout",
     "output_type": "stream",
     "text": [
      "\u001B[33m[check_names] The name 'x' is already in defined as NeuObj but it is overwritten.\u001B[0m\n",
      "\u001B[33m[check_names] The name 'out' is already in defined as NeuObj but it is overwritten.\u001B[0m\n"
     ]
    },
    {
     "data": {
      "text/plain": [
       "\u001B[1;32m==================================== Output ====================================\u001B[0m\n",
       "\u001B[32m{'Constants': {},\n",
       " 'Functions': {},\n",
       " 'Info': {},\n",
       " 'Inputs': {'x': {'dim': 1, 'sw': [-1, 0]}},\n",
       " 'Outputs': {'out': 'Linear45'},\n",
       " 'Parameters': {'PLinear21W': {'dim': [1, 3]}, 'PLinear23W': {'dim': [3, 1]}},\n",
       " 'Relations': {'Concatenate41': ['Concatenate', ['Tan38', 'Sin40']],\n",
       "               'Concatenate44': ['Concatenate', ['Concatenate41', 'Cos43']],\n",
       "               'Cos43': ['Cos', ['Select42']],\n",
       "               'Linear36': ['Linear', ['SamplePart35'], 'PLinear21W', None, 0],\n",
       "               'Linear45': ['Linear', ['Concatenate44'], 'PLinear23W', None, 0],\n",
       "               'SamplePart35': ['SamplePart', ['x'], -1, [-1, 0]],\n",
       "               'Select37': ['Select', ['Linear36'], 3, 0],\n",
       "               'Select39': ['Select', ['Linear36'], 3, 1],\n",
       "               'Select42': ['Select', ['Linear36'], 3, 2],\n",
       "               'Sin40': ['Sin', ['Select39']],\n",
       "               'Tan38': ['Tan', ['Select37']]}}\u001B[0m\n",
       "\u001B[1;32m--------------------------- out {'dim': 1, 'sw': 1} ----------------------------\u001B[0m"
      ]
     },
     "execution_count": 6,
     "metadata": {},
     "output_type": "execute_result"
    }
   ],
   "execution_count": 6
  },
  {
   "cell_type": "markdown",
   "metadata": {},
   "source": [
    "## Multiple inputs\n",
    "Create an simple equation learner block using nnodely trigonometric functions and passing multiple inputs when calling the equation layer block.\n",
    "All the given inputs will be concatenated before going through the linear input layer. The input and output dimensions of the input layer are 2, 3 respectively."
   ]
  },
  {
   "cell_type": "code",
   "metadata": {
    "ExecuteTime": {
     "end_time": "2025-05-23T15:05:19.717319Z",
     "start_time": "2025-05-23T15:05:19.707535Z"
    }
   },
   "source": [
    "x = Input('x')\n",
    "F = Input('F')\n",
    "equation_learner = EquationLearner(functions=[Tan, Sin, Cos])\n",
    "Output('out',equation_learner(inputs=(x.last(),F.last())))"
   ],
   "outputs": [
    {
     "name": "stdout",
     "output_type": "stream",
     "text": [
      "\u001B[33m[check_names] The name 'x' is already in defined as NeuObj but it is overwritten.\u001B[0m\n",
      "\u001B[33m[check_names] The name 'F' is already in defined as NeuObj but it is overwritten.\u001B[0m\n",
      "\u001B[33m[check_names] The name 'out' is already in defined as NeuObj but it is overwritten.\u001B[0m\n"
     ]
    },
    {
     "data": {
      "text/plain": [
       "\u001B[1;32m==================================== Output ====================================\u001B[0m\n",
       "\u001B[32m{'Constants': {},\n",
       " 'Functions': {},\n",
       " 'Info': {},\n",
       " 'Inputs': {'F': {'dim': 1, 'sw': [-1, 0]}, 'x': {'dim': 1, 'sw': [-1, 0]}},\n",
       " 'Outputs': {'out': 'Concatenate87'},\n",
       " 'Parameters': {'PLinear44W': {'dim': [2, 3]}, 'PLinear44b': {'dim': 3}},\n",
       " 'Relations': {'Concatenate78': ['Concatenate',\n",
       "                                 ['SamplePart75', 'SamplePart77']],\n",
       "               'Concatenate84': ['Concatenate', ['Tan81', 'Sin83']],\n",
       "               'Concatenate87': ['Concatenate', ['Concatenate84', 'Cos86']],\n",
       "               'Cos86': ['Cos', ['Select85']],\n",
       "               'Linear79': ['Linear',\n",
       "                            ['Concatenate78'],\n",
       "                            'PLinear44W',\n",
       "                            'PLinear44b',\n",
       "                            0],\n",
       "               'SamplePart75': ['SamplePart', ['x'], -1, [-1, 0]],\n",
       "               'SamplePart77': ['SamplePart', ['F'], -1, [-1, 0]],\n",
       "               'Select80': ['Select', ['Linear79'], 3, 0],\n",
       "               'Select82': ['Select', ['Linear79'], 3, 1],\n",
       "               'Select85': ['Select', ['Linear79'], 3, 2],\n",
       "               'Sin83': ['Sin', ['Select82']],\n",
       "               'Tan81': ['Tan', ['Select80']]}}\u001B[0m\n",
       "\u001B[1;32m--------------------------- out {'dim': 3, 'sw': 1} ----------------------------\u001B[0m"
      ]
     },
     "execution_count": 9,
     "metadata": {},
     "output_type": "execute_result"
    }
   ],
   "execution_count": 9
  },
  {
   "cell_type": "markdown",
   "metadata": {},
   "source": [
    "## Multi-parameter functions\n",
    "Create an equation learner block with functions that take 2 parameters (add, sub, mul ...). \n",
    "\n",
    "Be __careful__ to the output dimension that the linear input layer should have to connect correctly all the activation functions. In the example below, both the Add and Mul relations take 2 parameters so the total number of output dimension is 7 instead of 5."
   ]
  },
  {
   "cell_type": "code",
   "metadata": {
    "ExecuteTime": {
     "end_time": "2025-05-23T15:07:50.438527Z",
     "start_time": "2025-05-23T15:07:50.423945Z"
    }
   },
   "source": [
    "x = Input('x')\n",
    "F = Input('F')\n",
    "\n",
    "linear_layer_in_1 = Linear(output_dimension=7)\n",
    "equation_learner_1 = EquationLearner(functions=[Tan, Add, Sin, Mul, Identity], linear_in=linear_layer_in_1)\n",
    "Output('out',equation_learner_1(x.last()))"
   ],
   "outputs": [
    {
     "name": "stdout",
     "output_type": "stream",
     "text": [
      "\u001B[33m[check_names] The name 'x' is already in defined as NeuObj but it is overwritten.\u001B[0m\n",
      "\u001B[33m[check_names] The name 'F' is already in defined as NeuObj but it is overwritten.\u001B[0m\n",
      "\u001B[33m[check_names] The name 'out' is already in defined as NeuObj but it is overwritten.\u001B[0m\n"
     ]
    },
    {
     "data": {
      "text/plain": [
       "\u001B[1;32m==================================== Output ====================================\u001B[0m\n",
       "\u001B[32m{'Constants': {},\n",
       " 'Functions': {},\n",
       " 'Info': {},\n",
       " 'Inputs': {'x': {'dim': 1, 'sw': [-1, 0]}},\n",
       " 'Outputs': {'out': 'Concatenate106'},\n",
       " 'Parameters': {'PLinear50W': {'dim': [1, 7]}},\n",
       " 'Relations': {'Add95': ['Add', ['Select93', 'Select94']],\n",
       "               'Concatenate103': ['Concatenate', ['Concatenate99', 'Mul102']],\n",
       "               'Concatenate106': ['Concatenate',\n",
       "                                  ['Concatenate103', 'Identity105']],\n",
       "               'Concatenate96': ['Concatenate', ['Tan92', 'Add95']],\n",
       "               'Concatenate99': ['Concatenate', ['Concatenate96', 'Sin98']],\n",
       "               'Identity105': ['Identity', ['Select104']],\n",
       "               'Linear90': ['Linear', ['SamplePart89'], 'PLinear50W', None, 0],\n",
       "               'Mul102': ['Mul', ['Select100', 'Select101']],\n",
       "               'SamplePart89': ['SamplePart', ['x'], -1, [-1, 0]],\n",
       "               'Select100': ['Select', ['Linear90'], 7, 4],\n",
       "               'Select101': ['Select', ['Linear90'], 7, 5],\n",
       "               'Select104': ['Select', ['Linear90'], 7, 6],\n",
       "               'Select91': ['Select', ['Linear90'], 7, 0],\n",
       "               'Select93': ['Select', ['Linear90'], 7, 1],\n",
       "               'Select94': ['Select', ['Linear90'], 7, 2],\n",
       "               'Select97': ['Select', ['Linear90'], 7, 3],\n",
       "               'Sin98': ['Sin', ['Select97']],\n",
       "               'Tan92': ['Tan', ['Select91']]}}\u001B[0m\n",
       "\u001B[1;32m--------------------------- out {'dim': 5, 'sw': 1} ----------------------------\u001B[0m"
      ]
     },
     "execution_count": 10,
     "metadata": {},
     "output_type": "execute_result"
    }
   ],
   "execution_count": 10
  },
  {
   "cell_type": "markdown",
   "metadata": {},
   "source": [
    "## Using custom parametric functions\n",
    "Create an equation learner block with simple parametric functions"
   ]
  },
  {
   "cell_type": "code",
   "metadata": {
    "ExecuteTime": {
     "end_time": "2025-05-23T15:08:02.972854Z",
     "start_time": "2025-05-23T15:08:02.958664Z"
    }
   },
   "source": [
    "import torch\n",
    "\n",
    "def func1(K1):\n",
    "    return torch.sin(K1)\n",
    "\n",
    "def func2(K2):\n",
    "    return torch.cos(K2)\n",
    "\n",
    "x = Input('x')\n",
    "parfun1 = ParamFun(func1)\n",
    "parfun2 = ParamFun(func2)\n",
    "equation_learner = EquationLearner([parfun1, parfun2])\n",
    "Output('out',equation_learner(x.last()))"
   ],
   "outputs": [
    {
     "name": "stdout",
     "output_type": "stream",
     "text": [
      "\u001B[33m[check_names] The name 'x' is already in defined as NeuObj but it is overwritten.\u001B[0m\n",
      "\u001B[33m[check_names] The name 'out' is already in defined as NeuObj but it is overwritten.\u001B[0m\n"
     ]
    },
    {
     "data": {
      "text/plain": [
       "\u001B[1;32m==================================== Output ====================================\u001B[0m\n",
       "\u001B[32m{'Constants': {},\n",
       " 'Functions': {'FParamFun55': {'code': 'def func1(K1):\\n'\n",
       "                                       '    return torch.sin(K1)\\n',\n",
       "                               'in_dim': [{'dim': 1, 'sw': 1}],\n",
       "                               'map_over_dim': False,\n",
       "                               'n_input': 1,\n",
       "                               'name': 'func1',\n",
       "                               'params_and_consts': []},\n",
       "               'FParamFun56': {'code': 'def func2(K2):\\n'\n",
       "                                       '    return torch.cos(K2)\\n',\n",
       "                               'in_dim': [{'dim': 1, 'sw': 1}],\n",
       "                               'map_over_dim': False,\n",
       "                               'n_input': 1,\n",
       "                               'name': 'func2',\n",
       "                               'params_and_consts': []}},\n",
       " 'Info': {},\n",
       " 'Inputs': {'x': {'dim': 1, 'sw': [-1, 0]}},\n",
       " 'Outputs': {'out': 'Concatenate114'},\n",
       " 'Parameters': {'PLinear58W': {'dim': [1, 2]}, 'PLinear58b': {'dim': 2}},\n",
       " 'Relations': {'Concatenate114': ['Concatenate',\n",
       "                                  ['ParamFun111', 'ParamFun113']],\n",
       "               'Linear109': ['Linear',\n",
       "                             ['SamplePart108'],\n",
       "                             'PLinear58W',\n",
       "                             'PLinear58b',\n",
       "                             0],\n",
       "               'ParamFun111': ['ParamFun', ['Select110'], 'FParamFun55'],\n",
       "               'ParamFun113': ['ParamFun', ['Select112'], 'FParamFun56'],\n",
       "               'SamplePart108': ['SamplePart', ['x'], -1, [-1, 0]],\n",
       "               'Select110': ['Select', ['Linear109'], 2, 0],\n",
       "               'Select112': ['Select', ['Linear109'], 2, 1]}}\u001B[0m\n",
       "\u001B[1;32m--------------------------- out {'dim': 2, 'sw': 1} ----------------------------\u001B[0m"
      ]
     },
     "execution_count": 11,
     "metadata": {},
     "output_type": "execute_result"
    }
   ],
   "execution_count": 11
  },
  {
   "cell_type": "markdown",
   "metadata": {},
   "source": [
    "## Using parametric functions with parameters\n",
    "Create an equation learner block with simple parametric functions"
   ]
  },
  {
   "cell_type": "code",
   "metadata": {
    "ExecuteTime": {
     "end_time": "2025-05-23T15:08:46.604225Z",
     "start_time": "2025-05-23T15:08:46.585376Z"
    }
   },
   "source": [
    "def myFun(K1,K2,p1,p2):\n",
    "    return K1*p1+K2*p2\n",
    "\n",
    "x = Input('x')\n",
    "F = Input('F')\n",
    "\n",
    "K1 = Parameter('k1', dimensions =  1, sw = 1, values=[[2.0]])\n",
    "K2 = Parameter('k2', dimensions =  1, sw = 1, values=[[3.0]])\n",
    "parfun = ParamFun(myFun, parameters_and_constants=[K1,K2])\n",
    "\n",
    "equation_learner = EquationLearner([parfun, Sin, Add])\n",
    "Output('out',equation_learner((x.last(),F.last())))"
   ],
   "outputs": [
    {
     "name": "stdout",
     "output_type": "stream",
     "text": [
      "\u001B[33m[check_names] The name 'x' is already in defined as NeuObj but it is overwritten.\u001B[0m\n",
      "\u001B[33m[check_names] The name 'F' is already in defined as NeuObj but it is overwritten.\u001B[0m\n",
      "\u001B[33m[check_names] The name 'k1' is already in defined as NeuObj but it is overwritten.\u001B[0m\n",
      "\u001B[33m[check_names] The name 'k2' is already in defined as NeuObj but it is overwritten.\u001B[0m\n",
      "\u001B[33m[check_names] The name 'out' is already in defined as NeuObj but it is overwritten.\u001B[0m\n"
     ]
    },
    {
     "data": {
      "text/plain": [
       "\u001B[1;32m==================================== Output ====================================\u001B[0m\n",
       "\u001B[32m{'Constants': {},\n",
       " 'Functions': {'FParamFun76': {'code': 'def myFun(K1,K2,p1,p2):\\n'\n",
       "                                       '    return K1*p1+K2*p2\\n',\n",
       "                               'in_dim': [{'dim': 1, 'sw': 1},\n",
       "                                          {'dim': 1, 'sw': 1}],\n",
       "                               'map_over_dim': False,\n",
       "                               'n_input': 2,\n",
       "                               'name': 'myFun',\n",
       "                               'params_and_consts': ['k1', 'k2']}},\n",
       " 'Info': {},\n",
       " 'Inputs': {'F': {'dim': 1, 'sw': [-1, 0]}, 'x': {'dim': 1, 'sw': [-1, 0]}},\n",
       " 'Outputs': {'out': 'Concatenate146'},\n",
       " 'Parameters': {'PLinear78W': {'dim': [2, 5]},\n",
       "                'PLinear78b': {'dim': 5},\n",
       "                'k1': {'dim': 1,\n",
       "                       'init_values': [[2.0]],\n",
       "                       'sw': 1,\n",
       "                       'values': [[2.0]]},\n",
       "                'k2': {'dim': 1,\n",
       "                       'init_values': [[3.0]],\n",
       "                       'sw': 1,\n",
       "                       'values': [[3.0]]}},\n",
       " 'Relations': {'Add145': ['Add', ['Select143', 'Select144']],\n",
       "               'Concatenate135': ['Concatenate',\n",
       "                                  ['SamplePart132', 'SamplePart134']],\n",
       "               'Concatenate142': ['Concatenate', ['ParamFun139', 'Sin141']],\n",
       "               'Concatenate146': ['Concatenate', ['Concatenate142', 'Add145']],\n",
       "               'Linear136': ['Linear',\n",
       "                             ['Concatenate135'],\n",
       "                             'PLinear78W',\n",
       "                             'PLinear78b',\n",
       "                             0],\n",
       "               'ParamFun139': ['ParamFun',\n",
       "                               ['Select137', 'Select138'],\n",
       "                               'FParamFun76'],\n",
       "               'SamplePart132': ['SamplePart', ['x'], -1, [-1, 0]],\n",
       "               'SamplePart134': ['SamplePart', ['F'], -1, [-1, 0]],\n",
       "               'Select137': ['Select', ['Linear136'], 5, 0],\n",
       "               'Select138': ['Select', ['Linear136'], 5, 1],\n",
       "               'Select140': ['Select', ['Linear136'], 5, 2],\n",
       "               'Select143': ['Select', ['Linear136'], 5, 3],\n",
       "               'Select144': ['Select', ['Linear136'], 5, 4],\n",
       "               'Sin141': ['Sin', ['Select140']]}}\u001B[0m\n",
       "\u001B[1;32m--------------------------- out {'dim': 3, 'sw': 1} ----------------------------\u001B[0m"
      ]
     },
     "execution_count": 13,
     "metadata": {},
     "output_type": "execute_result"
    }
   ],
   "execution_count": 13
  },
  {
   "cell_type": "markdown",
   "metadata": {},
   "source": [
    "## Parametric functions and fuzzy layers\n",
    "Create an equation learner block with parametric functions and fuzzy layers"
   ]
  },
  {
   "cell_type": "code",
   "metadata": {
    "ExecuteTime": {
     "end_time": "2025-05-23T15:08:56.623080Z",
     "start_time": "2025-05-23T15:08:56.608222Z"
    }
   },
   "source": [
    "def myFun(K1,p1):\n",
    "    return K1*p1\n",
    "\n",
    "x = Input('x')\n",
    "F = Input('F')\n",
    "\n",
    "K = Parameter('k', dimensions =  1, sw = 1,values=[[2.0]])\n",
    "parfun = ParamFun(myFun, parameters_and_constants = [K])\n",
    "\n",
    "fuzzi = Fuzzify(centers=[0,1,2,3])\n",
    "equation_learner = EquationLearner([parfun, fuzzi])\n",
    "Output('out',equation_learner((x.last(),F.last())))"
   ],
   "outputs": [
    {
     "name": "stdout",
     "output_type": "stream",
     "text": [
      "\u001B[33m[check_names] The name 'x' is already in defined as NeuObj but it is overwritten.\u001B[0m\n",
      "\u001B[33m[check_names] The name 'F' is already in defined as NeuObj but it is overwritten.\u001B[0m\n",
      "\u001B[33m[check_names] The name 'out' is already in defined as NeuObj but it is overwritten.\u001B[0m\n"
     ]
    },
    {
     "data": {
      "text/plain": [
       "\u001B[1;32m==================================== Output ====================================\u001B[0m\n",
       "\u001B[32m{'Constants': {},\n",
       " 'Functions': {'FFuzzify86': {'centers': [0, 1, 2, 3],\n",
       "                              'dim_out': {'dim': 4},\n",
       "                              'functions': 'Triangular',\n",
       "                              'names': 'Triangular'},\n",
       "               'FParamFun85': {'code': 'def myFun(K1,p1):\\n    return K1*p1\\n',\n",
       "                               'in_dim': [{'dim': 1, 'sw': 1}],\n",
       "                               'map_over_dim': False,\n",
       "                               'n_input': 1,\n",
       "                               'name': 'myFun',\n",
       "                               'params_and_consts': ['k']}},\n",
       " 'Info': {},\n",
       " 'Inputs': {'F': {'dim': 1, 'sw': [-1, 0]}, 'x': {'dim': 1, 'sw': [-1, 0]}},\n",
       " 'Outputs': {'out': 'Concatenate157'},\n",
       " 'Parameters': {'PLinear88W': {'dim': [2, 2]},\n",
       "                'PLinear88b': {'dim': 2},\n",
       "                'k': {'dim': 1,\n",
       "                      'init_values': [[2.0]],\n",
       "                      'sw': 1,\n",
       "                      'values': [[2.0]]}},\n",
       " 'Relations': {'Concatenate151': ['Concatenate',\n",
       "                                  ['SamplePart148', 'SamplePart150']],\n",
       "               'Concatenate157': ['Concatenate', ['ParamFun154', 'Fuzzify156']],\n",
       "               'Fuzzify156': ['Fuzzify', ['Select155'], 'FFuzzify86'],\n",
       "               'Linear152': ['Linear',\n",
       "                             ['Concatenate151'],\n",
       "                             'PLinear88W',\n",
       "                             'PLinear88b',\n",
       "                             0],\n",
       "               'ParamFun154': ['ParamFun', ['Select153'], 'FParamFun85'],\n",
       "               'SamplePart148': ['SamplePart', ['x'], -1, [-1, 0]],\n",
       "               'SamplePart150': ['SamplePart', ['F'], -1, [-1, 0]],\n",
       "               'Select153': ['Select', ['Linear152'], 2, 0],\n",
       "               'Select155': ['Select', ['Linear152'], 2, 1]}}\u001B[0m\n",
       "\u001B[1;32m--------------------------- out {'dim': 5, 'sw': 1} ----------------------------\u001B[0m"
      ]
     },
     "execution_count": 14,
     "metadata": {},
     "output_type": "execute_result"
    }
   ],
   "execution_count": 14
  },
  {
   "cell_type": "markdown",
   "metadata": {},
   "source": [
    "## Cascade Equation Learner Blocks\n",
    "Create a cascade of equation learner blocks with various functions and temporal window inputs"
   ]
  },
  {
   "cell_type": "code",
   "metadata": {
    "ExecuteTime": {
     "end_time": "2025-05-23T15:10:15.274054Z",
     "start_time": "2025-05-23T15:10:15.228793Z"
    }
   },
   "source": [
    "x = Input('x')\n",
    "F = Input('F')\n",
    "\n",
    "def myFun(K1,K2,p1,p2):\n",
    "    return K1*p1+K2*p2\n",
    "\n",
    "K1 = Parameter('k1', dimensions =  1, sw = 1, values=[[2.0]])\n",
    "K2 = Parameter('k2', dimensions =  1, sw = 1, values=[[3.0]])\n",
    "parfun = ParamFun(myFun, parameters_and_constants = [K1,K2])\n",
    "\n",
    "input_layer_1 = Linear(output_dimension=5, W_init='init_constant', W_init_params={'value':1}, b_init='init_constant', b_init_params={'value':0})\n",
    "input_layer_2 = Linear(output_dimension=7, W_init='init_constant', W_init_params={'value':1}, b_init='init_constant', b_init_params={'value':0})\n",
    "output_layer = Linear(output_dimension=1, W_init='init_constant', W_init_params={'value':1}, b=True)\n",
    "equation_learner = EquationLearner([parfun, Sin, Add], linear_in=input_layer_1)\n",
    "equation_learner_2 = EquationLearner(functions=[Tan, Add, Sin, Mul, Identity], linear_in=input_layer_2, linear_out=output_layer)\n",
    "\n",
    "Output('out',equation_learner_2(equation_learner((x.sw(1),F.sw(1)))))"
   ],
   "outputs": [
    {
     "name": "stdout",
     "output_type": "stream",
     "text": [
      "\u001B[33m[check_names] The name 'x' is already in defined as NeuObj but it is overwritten.\u001B[0m\n",
      "\u001B[33m[check_names] The name 'F' is already in defined as NeuObj but it is overwritten.\u001B[0m\n",
      "\u001B[33m[check_names] The name 'k1' is already in defined as NeuObj but it is overwritten.\u001B[0m\n",
      "\u001B[33m[check_names] The name 'k2' is already in defined as NeuObj but it is overwritten.\u001B[0m\n",
      "\u001B[33m[check_names] The name 'out' is already in defined as NeuObj but it is overwritten.\u001B[0m\n"
     ]
    },
    {
     "data": {
      "text/plain": [
       "\u001B[1;32m==================================== Output ====================================\u001B[0m\n",
       "\u001B[32m{'Constants': {},\n",
       " 'Functions': {'FParamFun111': {'code': 'def myFun(K1,K2,p1,p2):\\n'\n",
       "                                        '    return K1*p1+K2*p2\\n',\n",
       "                                'in_dim': [{'dim': 1, 'sw': 1},\n",
       "                                           {'dim': 1, 'sw': 1}],\n",
       "                                'map_over_dim': False,\n",
       "                                'n_input': 2,\n",
       "                                'name': 'myFun',\n",
       "                                'params_and_consts': ['k1', 'k2']}},\n",
       " 'Info': {},\n",
       " 'Inputs': {'F': {'dim': 1, 'sw': [-1, 0]}, 'x': {'dim': 1, 'sw': [-1, 0]}},\n",
       " 'Outputs': {'out': 'Linear225'},\n",
       " 'Parameters': {'PLinear112W': {'dim': [2, 5],\n",
       "                                'init_fun': {'name': 'init_constant',\n",
       "                                             'params': {'value': 1}}},\n",
       "                'PLinear114W': {'dim': [3, 7],\n",
       "                                'init_fun': {'name': 'init_constant',\n",
       "                                             'params': {'value': 1}}},\n",
       "                'PLinear116W': {'dim': [5, 1],\n",
       "                                'init_fun': {'name': 'init_constant',\n",
       "                                             'params': {'value': 1}}},\n",
       "                'PLinear116b': {'dim': 1},\n",
       "                'k1': {'dim': 1,\n",
       "                       'init_values': [[2.0]],\n",
       "                       'sw': 1,\n",
       "                       'values': [[2.0]]},\n",
       "                'k2': {'dim': 1,\n",
       "                       'init_values': [[3.0]],\n",
       "                       'sw': 1,\n",
       "                       'values': [[3.0]]}},\n",
       " 'Relations': {'Add206': ['Add', ['Select204', 'Select205']],\n",
       "               'Add213': ['Add', ['Select211', 'Select212']],\n",
       "               'Concatenate196': ['Concatenate',\n",
       "                                  ['SamplePart193', 'SamplePart195']],\n",
       "               'Concatenate203': ['Concatenate', ['ParamFun200', 'Sin202']],\n",
       "               'Concatenate207': ['Concatenate', ['Concatenate203', 'Add206']],\n",
       "               'Concatenate214': ['Concatenate', ['Tan210', 'Add213']],\n",
       "               'Concatenate217': ['Concatenate', ['Concatenate214', 'Sin216']],\n",
       "               'Concatenate221': ['Concatenate', ['Concatenate217', 'Mul220']],\n",
       "               'Concatenate224': ['Concatenate',\n",
       "                                  ['Concatenate221', 'Identity223']],\n",
       "               'Identity223': ['Identity', ['Select222']],\n",
       "               'Linear197': ['Linear',\n",
       "                             ['Concatenate196'],\n",
       "                             'PLinear112W',\n",
       "                             None,\n",
       "                             0],\n",
       "               'Linear208': ['Linear',\n",
       "                             ['Concatenate207'],\n",
       "                             'PLinear114W',\n",
       "                             None,\n",
       "                             0],\n",
       "               'Linear225': ['Linear',\n",
       "                             ['Concatenate224'],\n",
       "                             'PLinear116W',\n",
       "                             'PLinear116b',\n",
       "                             0],\n",
       "               'Mul220': ['Mul', ['Select218', 'Select219']],\n",
       "               'ParamFun200': ['ParamFun',\n",
       "                               ['Select198', 'Select199'],\n",
       "                               'FParamFun111'],\n",
       "               'SamplePart193': ['SamplePart', ['x'], -1, [-1, 0]],\n",
       "               'SamplePart195': ['SamplePart', ['F'], -1, [-1, 0]],\n",
       "               'Select198': ['Select', ['Linear197'], 5, 0],\n",
       "               'Select199': ['Select', ['Linear197'], 5, 1],\n",
       "               'Select201': ['Select', ['Linear197'], 5, 2],\n",
       "               'Select204': ['Select', ['Linear197'], 5, 3],\n",
       "               'Select205': ['Select', ['Linear197'], 5, 4],\n",
       "               'Select209': ['Select', ['Linear208'], 7, 0],\n",
       "               'Select211': ['Select', ['Linear208'], 7, 1],\n",
       "               'Select212': ['Select', ['Linear208'], 7, 2],\n",
       "               'Select215': ['Select', ['Linear208'], 7, 3],\n",
       "               'Select218': ['Select', ['Linear208'], 7, 4],\n",
       "               'Select219': ['Select', ['Linear208'], 7, 5],\n",
       "               'Select222': ['Select', ['Linear208'], 7, 6],\n",
       "               'Sin202': ['Sin', ['Select201']],\n",
       "               'Sin216': ['Sin', ['Select215']],\n",
       "               'Tan210': ['Tan', ['Select209']]}}\u001B[0m\n",
       "\u001B[1;32m--------------------------- out {'dim': 1, 'sw': 1} ----------------------------\u001B[0m"
      ]
     },
     "execution_count": 16,
     "metadata": {},
     "output_type": "execute_result"
    }
   ],
   "execution_count": 16
  },
  {
   "metadata": {},
   "cell_type": "code",
   "outputs": [],
   "execution_count": null,
   "source": ""
  }
 ],
 "metadata": {
  "kernelspec": {
   "display_name": "venv",
   "language": "python",
   "name": "python3"
  },
  "language_info": {
   "name": "python",
   "version": "3.11.4"
  }
 },
 "nbformat": 4,
 "nbformat_minor": 2
}
