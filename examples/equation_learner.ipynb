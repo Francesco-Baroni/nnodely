{
 "cells": [
  {
   "cell_type": "markdown",
   "metadata": {},
   "source": [
    "# NNodely Documentation - Equation Learner Layer\n",
    "\n",
    "Represents a nnodely implementation of the Task-Parametrized Equation Learner block.\n",
    "\n",
    "Official Paper: [Task-Parametrized Equation Learner](https://www.sciencedirect.com/science/article/pii/S0921889022001981)"
   ]
  },
  {
   "cell_type": "code",
   "execution_count": null,
   "metadata": {},
   "outputs": [],
   "source": [
    "# uncomment the command below to install the nnodely package\n",
    "#!pip install nnodely\n",
    "\n",
    "from nnodely import *"
   ]
  },
  {
   "cell_type": "markdown",
   "metadata": {},
   "source": [
    "## Example 1 - Basic Usage\n",
    "Create an simple equation learner block using nnodely trigonometric functions. The initial linear layer is created using random initialization."
   ]
  },
  {
   "cell_type": "code",
   "execution_count": null,
   "metadata": {},
   "outputs": [],
   "source": [
    "x = Input('x')\n",
    "equation_learner = EquationLearner(functions=[Tan, Sin, Cos])\n",
    "out = Output('out',equation_learner(x.last()))"
   ]
  },
  {
   "cell_type": "markdown",
   "metadata": {},
   "source": [
    "## Example 2 - Input layer\n",
    "Create an simple equation learner block using nnodely trigonometric functions and passing an input layer"
   ]
  },
  {
   "cell_type": "code",
   "execution_count": null,
   "metadata": {},
   "outputs": [],
   "source": [
    "x = Input('x')\n",
    "input_layer = Linear(output_dimension=3, W_init=init_constant, W_init_params={'value':1}, b=False)\n",
    "equation_learner = EquationLearner(functions=[Tan, Sin, Cos], linear_in=input_layer)\n",
    "out = Output('out', equation_learner(x.last()))"
   ]
  },
  {
   "cell_type": "markdown",
   "metadata": {},
   "source": [
    "## Example 3 - Input layer and output layer\n",
    "Create an simple equation learner block using nnodely trigonometric functions and passing an input layer and also a linear output layer\n",
    "\n",
    "(By default, there is no linear output layer)"
   ]
  },
  {
   "cell_type": "code",
   "execution_count": null,
   "metadata": {},
   "outputs": [],
   "source": [
    "x = Input('x')\n",
    "input_layer = Linear(output_dimension=3, W_init=init_constant, W_init_params={'value':1}, b=False)\n",
    "output_layer = Linear(output_dimension=1, W_init=init_constant, W_init_params={'value':1}, b=True)\n",
    "equation_learner = EquationLearner(functions=[Tan, Sin, Cos], linear_in=input_layer, linear_out=output_layer)\n",
    "out = Output('out', equation_learner(x.last()))"
   ]
  },
  {
   "cell_type": "markdown",
   "metadata": {},
   "source": [
    "## Example 4 - Multiple inputs\n",
    "Create an simple equation learner block using nnodely trigonometric functions and passing multiple inputs when calling the equation layer block.\n",
    "All the given inputs will be concatenated before going through the linear input layer"
   ]
  },
  {
   "cell_type": "code",
   "execution_count": null,
   "metadata": {},
   "outputs": [],
   "source": [
    "x = Input('x')\n",
    "F = Input('F')\n",
    "equation_learner = EquationLearner(functions=[Tan, Sin, Cos])\n",
    "out = Output('out',equation_learner(inputs=(x.last(),F.last())))"
   ]
  },
  {
   "cell_type": "markdown",
   "metadata": {},
   "source": [
    "## Example 5 - Multi-parameter functions\n",
    "Create an equation learner block with functions that take 2 parameters (add, sub, mul ...). \n",
    "\n",
    "!! Be careful to the output dimension that the linear input layer should have to connect correctly all the activation functions. In the example below, both the Add and Mul relations take 2 parameters so the total number of output dimension is 7 instead of 5"
   ]
  },
  {
   "cell_type": "code",
   "execution_count": null,
   "metadata": {},
   "outputs": [],
   "source": [
    "x = Input('x')\n",
    "F = Input('F')\n",
    "\n",
    "linear_layer_in_1 = Linear(output_dimension=7)\n",
    "equation_learner_1 = EquationLearner(functions=[Tan, Add, Sin, Mul, Identity], linear_in=linear_layer_in_1)\n",
    "out = Output('out',equation_learner_1(x.last()))"
   ]
  },
  {
   "cell_type": "markdown",
   "metadata": {},
   "source": [
    "## Example 6 - Using custom parametric functions\n",
    "Create an equation learner block with simple parametric functions"
   ]
  },
  {
   "cell_type": "code",
   "execution_count": null,
   "metadata": {},
   "outputs": [],
   "source": [
    "import torch\n",
    "\n",
    "def func1(K1):\n",
    "    return torch.sin(K1)\n",
    "\n",
    "def func2(K2):\n",
    "    return torch.cos(K2)\n",
    "\n",
    "x = Input('x')\n",
    "parfun1 = ParamFun(func1)\n",
    "parfun2 = ParamFun(func2)\n",
    "equation_learner = EquationLearner([parfun1, parfun2])\n",
    "out = Output('out',equation_learner(x.last()))"
   ]
  },
  {
   "cell_type": "markdown",
   "metadata": {},
   "source": [
    "## Example 7 - Using parametric functions with parameters\n",
    "Create an equation learner block with simple parametric functions"
   ]
  },
  {
   "cell_type": "code",
   "execution_count": null,
   "metadata": {},
   "outputs": [],
   "source": [
    "def myFun(K1,K2,p1,p2):\n",
    "    return K1*p1+K2*p2\n",
    "\n",
    "x = Input('x')\n",
    "F = Input('F')\n",
    "\n",
    "K1 = Parameter('k1', dimensions =  1, sw = 1,values=[[2.0]])\n",
    "K2 = Parameter('k2', dimensions =  1, sw = 1,values=[[3.0]])\n",
    "parfun = ParamFun(myFun, parameters_and_constants=[K1,K2])\n",
    "\n",
    "equation_learner = EquationLearner([parfun, Sin, Add])\n",
    "out = Output('out',equation_learner((x.last(),F.last())))"
   ]
  },
  {
   "cell_type": "markdown",
   "metadata": {},
   "source": [
    "## Example 8 - Parametric functions and fuzzy layers\n",
    "Create an equation learner block with parametric functions and fuzzy layers"
   ]
  },
  {
   "cell_type": "code",
   "execution_count": null,
   "metadata": {},
   "outputs": [],
   "source": [
    "def myFun(K1,p1):\n",
    "    return K1*p1\n",
    "\n",
    "x = Input('x')\n",
    "F = Input('F')\n",
    "\n",
    "K = Parameter('k', dimensions =  1, sw = 1,values=[[2.0]])\n",
    "parfun = ParamFun(myFun, parameters_and_constants = [K])\n",
    "\n",
    "fuzzi = Fuzzify(centers=[0,1,2,3])\n",
    "equation_learner = EquationLearner([parfun, fuzzi])\n",
    "out = Output('out',equation_learner((x.last(),F.last())))"
   ]
  },
  {
   "cell_type": "markdown",
   "metadata": {},
   "source": [
    "## Complex Example - Cascade Equation Blocks\n",
    "Create a cascade of equation learner blocks with various functions and temporal window inputs"
   ]
  },
  {
   "cell_type": "code",
   "execution_count": null,
   "metadata": {},
   "outputs": [],
   "source": [
    "x = Input('x')\n",
    "F = Input('F')\n",
    "\n",
    "def myFun(K1,K2,p1,p2):\n",
    "    return K1*p1+K2*p2\n",
    "\n",
    "K1 = Parameter('k1', dimensions =  1, sw = 1,values=[[2.0]])\n",
    "K2 = Parameter('k2', dimensions =  1, sw = 1,values=[[3.0]])\n",
    "parfun = ParamFun(myFun, parameters_and_constants = [K1,K2])\n",
    "\n",
    "input_layer_1 = Linear(output_dimension=5, W_init=init_constant, W_init_params={'value':1}, b_init=init_constant, b_init_params={'value':0})\n",
    "input_layer_2 = Linear(output_dimension=7, W_init=init_constant, W_init_params={'value':1}, b_init=init_constant, b_init_params={'value':0})\n",
    "output_layer = Linear(output_dimension=1, W_init=init_constant, W_init_params={'value':1}, b=True)\n",
    "equation_learner = EquationLearner([parfun, Sin, Add], linear_in=input_layer_1)\n",
    "equation_learner_2 = EquationLearner(functions=[Tan, Add, Sin, Mul, Identity], linear_in=input_layer_2, linear_out=output_layer)\n",
    "\n",
    "out = Output('out',equation_learner_2(equation_learner((x.sw(1),F.sw(1)))))"
   ]
  }
 ],
 "metadata": {
  "kernelspec": {
   "display_name": "venv",
   "language": "python",
   "name": "python3"
  },
  "language_info": {
   "name": "python",
   "version": "3.11.4"
  }
 },
 "nbformat": 4,
 "nbformat_minor": 2
}
