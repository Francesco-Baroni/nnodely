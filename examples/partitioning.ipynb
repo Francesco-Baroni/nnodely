{
 "cells": [
  {
   "cell_type": "markdown",
   "metadata": {},
   "source": [
    "# NNodely Documentation - Partitioning\n",
    "\n",
    "Here are listed all the relation blocks to slice or select a subvector inside the neural architecture."
   ]
  },
  {
   "cell_type": "code",
   "execution_count": null,
   "metadata": {},
   "outputs": [],
   "source": [
    "# uncomment the command below to install the nnodely package\n",
    "#!pip install nnodely\n",
    "\n",
    "from nnodely import *\n",
    "from nnodely.relation import NeuObj"
   ]
  },
  {
   "cell_type": "markdown",
   "metadata": {},
   "source": [
    "## Example 1 - Part\n",
    "\n",
    "Represents a sub-window from a relation in the neural network model. The index of the first and last element must be provided. \n",
    "\n",
    "The Part relation works along the object dimension (third dimension) of the input."
   ]
  },
  {
   "cell_type": "code",
   "execution_count": null,
   "metadata": {},
   "outputs": [],
   "source": [
    "x = Input('x', dimensions=3).last()\n",
    "linear = Linear(20)(x)\n",
    "sub_linear = Part(linear, 0, 10)\n",
    "out = Output('out', sub_linear)"
   ]
  },
  {
   "cell_type": "markdown",
   "metadata": {},
   "source": [
    "## Example 2 - Select\n",
    "\n",
    "Represents a single element from a relation in the neural network model. The index of the element must be provided. \n",
    "\n",
    "The Select relation works along the object dimension (third dimension) of the input."
   ]
  },
  {
   "cell_type": "code",
   "execution_count": null,
   "metadata": {},
   "outputs": [],
   "source": [
    "x = Input('x', dimensions=3).last()\n",
    "linear = Linear(20)(x)\n",
    "sub_linear = Select(x, 1)\n",
    "out = Output('out', sub_linear)"
   ]
  },
  {
   "cell_type": "markdown",
   "metadata": {},
   "source": [
    "## Example 3 - Concatenate\n",
    "\n",
    "Represents the concatenate function between two relations.\n",
    "\n",
    "The Concatenate relation works along the object dimension (third dimension) of the input."
   ]
  },
  {
   "cell_type": "code",
   "execution_count": null,
   "metadata": {},
   "outputs": [
    {
     "ename": "NameError",
     "evalue": "name 'Input' is not defined",
     "output_type": "error",
     "traceback": [
      "\u001b[1;31m---------------------------------------------------------------------------\u001b[0m",
      "\u001b[1;31mNameError\u001b[0m                                 Traceback (most recent call last)",
      "Cell \u001b[1;32mIn[1], line 1\u001b[0m\n\u001b[1;32m----> 1\u001b[0m x \u001b[38;5;241m=\u001b[39m \u001b[43mInput\u001b[49m(\u001b[38;5;124m'\u001b[39m\u001b[38;5;124mx\u001b[39m\u001b[38;5;124m'\u001b[39m, dimensions\u001b[38;5;241m=\u001b[39m\u001b[38;5;241m3\u001b[39m)\u001b[38;5;241m.\u001b[39mlast()\n\u001b[0;32m      2\u001b[0m relation1 \u001b[38;5;241m=\u001b[39m Linear(\u001b[38;5;241m10\u001b[39m)(x)\n\u001b[0;32m      3\u001b[0m relation2 \u001b[38;5;241m=\u001b[39m Linear(\u001b[38;5;241m10\u001b[39m)(y)\n",
      "\u001b[1;31mNameError\u001b[0m: name 'Input' is not defined"
     ]
    }
   ],
   "source": [
    "x = Input('x', dimensions=3).last()\n",
    "y = Input('y', dimensions=3).last()\n",
    "relation1 = Linear(10)(x)\n",
    "relation2 = Linear(10)(y)\n",
    "cat = Concatenate(relation1, relation2)\n",
    "out = Output('out', cat)"
   ]
  },
  {
   "cell_type": "markdown",
   "metadata": {},
   "source": [
    "## Example 4 - SamplePart\n",
    "\n",
    "Represents a sub-window from a relation in the neural network model. The index of the first and last element must be provided. \n",
    "\n",
    "The SamplePart relation works along the time dimension (second dimension) of the input."
   ]
  },
  {
   "cell_type": "code",
   "execution_count": null,
   "metadata": {},
   "outputs": [],
   "source": [
    "x = Input('x').sw(10)\n",
    "relation = SamplePart(x, 0, 3)\n",
    "out = Output('out', relation)"
   ]
  },
  {
   "cell_type": "markdown",
   "metadata": {},
   "source": [
    "## Example 5 - SampleSelect\n",
    "\n",
    "Represents a single element from a relation in the neural network model. The index of the element must be provided. \n",
    "\n",
    "The SampleSelect relation works along the time dimension (second dimension) of the input."
   ]
  },
  {
   "cell_type": "code",
   "execution_count": null,
   "metadata": {},
   "outputs": [],
   "source": [
    "x = Input('x').sw(10)\n",
    "relation = SampleSelect(x, 5)\n",
    "out = Output('out', relation)"
   ]
  },
  {
   "cell_type": "markdown",
   "metadata": {},
   "source": []
  },
  {
   "cell_type": "code",
   "execution_count": null,
   "metadata": {},
   "outputs": [],
   "source": []
  },
  {
   "cell_type": "markdown",
   "metadata": {},
   "source": []
  },
  {
   "cell_type": "code",
   "execution_count": null,
   "metadata": {},
   "outputs": [],
   "source": []
  }
 ],
 "metadata": {
  "kernelspec": {
   "display_name": "venv",
   "language": "python",
   "name": "python3"
  },
  "language_info": {
   "codemirror_mode": {
    "name": "ipython",
    "version": 3
   },
   "file_extension": ".py",
   "mimetype": "text/x-python",
   "name": "python",
   "nbconvert_exporter": "python",
   "pygments_lexer": "ipython3",
   "version": "3.11.4"
  }
 },
 "nbformat": 4,
 "nbformat_minor": 2
}
