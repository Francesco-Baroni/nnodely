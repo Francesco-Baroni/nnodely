{
 "cells": [
  {
   "cell_type": "markdown",
   "metadata": {},
   "source": [
    "# NNodely Documentation - Partitioning\n",
    "\n",
    "Here are listed all the relation blocks to slice or select a subvector inside the neural architecture."
   ]
  },
  {
   "cell_type": "code",
   "execution_count": 1,
   "metadata": {},
   "outputs": [
    {
     "name": "stdout",
     "output_type": "stream",
     "text": [
      ">>>>>>>>>>>>>>>>>>>>>>>>>>>>>>-- nnodely_v1.3.1 --<<<<<<<<<<<<<<<<<<<<<<<<<<<<<<\n"
     ]
    }
   ],
   "source": [
    "# uncomment the command below to install the nnodely package\n",
    "#!pip install nnodely\n",
    "\n",
    "from nnodely import *\n",
    "from nnodely.relation import NeuObj"
   ]
  },
  {
   "cell_type": "markdown",
   "metadata": {},
   "source": [
    "## Example 1 - Part\n",
    "\n",
    "Represents a sub-window from a relation in the neural network model. The index of the first and last element must be provided. \n",
    "\n",
    "The Part relation works along the object dimension (third dimension) of the input."
   ]
  },
  {
   "cell_type": "code",
   "execution_count": 2,
   "metadata": {},
   "outputs": [],
   "source": [
    "x = Input('x', dimensions=3).last()\n",
    "linear = Linear(20)(x)\n",
    "sub_linear = Part(linear, 0, 10)\n",
    "out = Output('out', sub_linear)"
   ]
  },
  {
   "cell_type": "markdown",
   "metadata": {},
   "source": [
    "## Example 2 - Select\n",
    "\n",
    "Represents a single element from a relation in the neural network model. The index of the element must be provided. \n",
    "\n",
    "The Select relation works along the object dimension (third dimension) of the input."
   ]
  },
  {
   "cell_type": "code",
   "execution_count": 5,
   "metadata": {},
   "outputs": [],
   "source": [
    "NeuObj.clearNames()\n",
    "x = Input('x', dimensions=3).last()\n",
    "linear = Linear(20)(x)\n",
    "sub_linear = Select(x, 1)\n",
    "out = Output('out', sub_linear)"
   ]
  },
  {
   "cell_type": "markdown",
   "metadata": {},
   "source": [
    "## Example 3 - Concatenate\n",
    "\n",
    "Represents the concatenate function between two relations.\n",
    "\n",
    "The Concatenate relation works along the object dimension (third dimension) of the input."
   ]
  },
  {
   "cell_type": "code",
   "execution_count": 7,
   "metadata": {},
   "outputs": [],
   "source": [
    "NeuObj.clearNames()\n",
    "x = Input('x', dimensions=3).last()\n",
    "y = Input('y', dimensions=3).last()\n",
    "relation1 = Linear(10)(x)\n",
    "relation2 = Linear(10)(y)\n",
    "cat = Concatenate(relation1, relation2)\n",
    "out = Output('out', cat)"
   ]
  },
  {
   "cell_type": "markdown",
   "metadata": {},
   "source": [
    "## Example 4 - SamplePart\n",
    "\n",
    "Represents a sub-window from a relation in the neural network model. The index of the first and last element must be provided. \n",
    "\n",
    "The SamplePart relation works along the time dimension (second dimension) of the input."
   ]
  },
  {
   "cell_type": "code",
   "execution_count": 8,
   "metadata": {},
   "outputs": [],
   "source": [
    "NeuObj.clearNames()\n",
    "x = Input('x').sw(10)\n",
    "relation = SamplePart(x, 0, 3)\n",
    "out = Output('out', relation)"
   ]
  },
  {
   "cell_type": "markdown",
   "metadata": {},
   "source": [
    "## Example 5 - SampleSelect\n",
    "\n",
    "Represents a single element from a relation in the neural network model. The index of the element must be provided. \n",
    "\n",
    "The SampleSelect relation works along the time dimension (second dimension) of the input."
   ]
  },
  {
   "cell_type": "code",
   "execution_count": 9,
   "metadata": {},
   "outputs": [],
   "source": [
    "NeuObj.clearNames()\n",
    "x = Input('x').sw(10)\n",
    "relation = SampleSelect(x, 5)\n",
    "out = Output('out', relation)"
   ]
  },
  {
   "cell_type": "markdown",
   "metadata": {},
   "source": [
    "## Example 6 - TimeConcatenate\n",
    "\n",
    "Represents the concatenate function between two relations but the TimeConcatenate relation works along the time dimension (second dimension)."
   ]
  },
  {
   "cell_type": "code",
   "execution_count": 10,
   "metadata": {},
   "outputs": [],
   "source": [
    "NeuObj.clearNames()\n",
    "x = Input('x').sw(5)\n",
    "y = Input('y').sw(3)\n",
    "relation1 = Fir(x)\n",
    "cat = TimeConcatenate(relation1, y)\n",
    "out = Output('out', cat)"
   ]
  }
 ],
 "metadata": {
  "kernelspec": {
   "display_name": "venv",
   "language": "python",
   "name": "python3"
  },
  "language_info": {
   "codemirror_mode": {
    "name": "ipython",
    "version": 3
   },
   "file_extension": ".py",
   "mimetype": "text/x-python",
   "name": "python",
   "nbconvert_exporter": "python",
   "pygments_lexer": "ipython3",
   "version": "3.11.4"
  }
 },
 "nbformat": 4,
 "nbformat_minor": 2
}
