{
 "cells": [
  {
   "cell_type": "markdown",
   "metadata": {},
   "source": [
    "# NNodely Documentation - Fir Layer\n",
    "\n",
    "Represents a Finite Impulse Response (FIR) relation in the neural network model.\n",
    "\n",
    "The FIR relation works along the time dimension (second dimension) of the input tensor. \n",
    "\n",
    "You can find some initialization functions inside the initializer module."
   ]
  },
  {
   "cell_type": "code",
   "execution_count": 2,
   "metadata": {},
   "outputs": [],
   "source": [
    "# uncomment the command below to install the nnodely package\n",
    "#!pip install nnodely\n",
    "\n",
    "from nnodely import *\n",
    "from nnodely.relation import NeuObj"
   ]
  },
  {
   "cell_type": "markdown",
   "metadata": {},
   "source": [
    "## Example 1 - Basic Usage\n",
    "\n",
    "Create a Fir Relation block with random Weights initialization. \n",
    "\n",
    "(By default, there is no bias. to add also the bias parameter set the 'b' attribute to True)"
   ]
  },
  {
   "cell_type": "code",
   "execution_count": 3,
   "metadata": {},
   "outputs": [],
   "source": [
    "input = Input('x')\n",
    "fir_layer = Fir(b=True)\n",
    "output = Output('out', fir_layer(input.tw(0.05)))"
   ]
  },
  {
   "cell_type": "markdown",
   "metadata": {},
   "source": [
    "## Example 2 - Passing a Parameter\n",
    "\n",
    "Create a Fir Relation block and setting the weight and bias with a pre-defined parameter. "
   ]
  },
  {
   "cell_type": "code",
   "execution_count": 8,
   "metadata": {},
   "outputs": [],
   "source": [
    "NeuObj.clearNames()\n",
    "input = Input('x')\n",
    "\n",
    "weight = Parameter('w', dimensions=3, sw=2, init='init_constant')\n",
    "bias = Parameter('b', dimensions=3, init='init_constant')\n",
    "\n",
    "fir_layer = Fir(W=weight, b=bias)(input.sw(2))\n",
    "output = Output('out', fir_layer)"
   ]
  },
  {
   "cell_type": "markdown",
   "metadata": {},
   "source": [
    "## Example 3 - Initialize the parameters\n",
    "\n",
    "Create a Fir Relation block and initialize the weight and bias using an initialization function.\n",
    "\n",
    "Set the argument of the initialization function using a dictionary as shown below.\n",
    "\n",
    "(you can find all the initialization function inside the 'initializer' module. You can also define your own initialization function!)"
   ]
  },
  {
   "cell_type": "code",
   "execution_count": 9,
   "metadata": {},
   "outputs": [],
   "source": [
    "NeuObj.clearNames()\n",
    "x = Input('x')\n",
    "F = Input('F')\n",
    "\n",
    "fir_x = Fir(W_init=init_negexp, b_init=init_exp)(x.tw(0.2)) \n",
    "fir_F = Fir(W_init=init_constant, W_init_params={'value':1}, b_init=init_constant, b_init_params={'value':0})(F.last())\n",
    "\n",
    "output = Output('out', fir_x + fir_F)"
   ]
  },
  {
   "cell_type": "markdown",
   "metadata": {},
   "source": [
    "## Example 4 - Adding the Dropout\n",
    "\n",
    "Create a Fir Relation block with dropout regularization"
   ]
  },
  {
   "cell_type": "code",
   "execution_count": 10,
   "metadata": {},
   "outputs": [],
   "source": [
    "NeuObj.clearNames()\n",
    "input = Input('x')\n",
    "\n",
    "weight = Parameter('w', dimensions=3, sw=2, init=init_constant)\n",
    "\n",
    "fir_layer = Fir(W=weight, b=False, dropout=0.2)(input.sw(2))\n",
    "output = Output('out', fir_layer)"
   ]
  }
 ],
 "metadata": {
  "kernelspec": {
   "display_name": "venv",
   "language": "python",
   "name": "python3"
  },
  "language_info": {
   "codemirror_mode": {
    "name": "ipython",
    "version": 3
   },
   "file_extension": ".py",
   "mimetype": "text/x-python",
   "name": "python",
   "nbconvert_exporter": "python",
   "pygments_lexer": "ipython3",
   "version": "3.11.4"
  }
 },
 "nbformat": 4,
 "nbformat_minor": 2
}
