{
 "cells": [
  {
   "cell_type": "markdown",
   "metadata": {},
   "source": [
    "# NNodely Documentation - Export Network"
   ]
  },
  {
   "cell_type": "code",
   "execution_count": 1,
   "metadata": {},
   "outputs": [
    {
     "name": "stdout",
     "output_type": "stream",
     "text": [
      ">>>>>>>>>>>>>>>>>>>>>>>>>>>>>>-- nnodely_v1.3.1 --<<<<<<<<<<<<<<<<<<<<<<<<<<<<<<\n"
     ]
    }
   ],
   "source": [
    "# uncomment the command below to install the nnodely package\n",
    "#!pip install nnodely\n",
    "\n",
    "from nnodely import *\n",
    "from nnodely.relation import NeuObj"
   ]
  },
  {
   "cell_type": "code",
   "execution_count": null,
   "metadata": {},
   "outputs": [],
   "source": [
    "x = Input('x')\n",
    "y = Input('y')\n",
    "z = Input('z')\n",
    "\n",
    "def myFun(K1,p1,p2):\n",
    "    return K1*p1*p2\n",
    "\n",
    "K_x = Parameter('k_x', dimensions=1, tw=1)\n",
    "c_v = Constant('c_v', tw=1, values=[[1],[2]])\n",
    "parfun_x = ParamFun(myFun, parameters_and_constants = [K_x,c_v])\n",
    "\n",
    "out = Output('out', Fir(parfun_x(x.tw(1))))\n",
    "\n",
    "result_path = './results'\n",
    "model = Modely(workspace=result_path)\n",
    "model.addModel('model', out)\n",
    "model.neuralizeModel()"
   ]
  },
  {
   "cell_type": "markdown",
   "metadata": {},
   "source": [
    "## Save network parameters in a pickle file"
   ]
  },
  {
   "cell_type": "code",
   "execution_count": null,
   "metadata": {},
   "outputs": [],
   "source": [
    "model.saveTorchModel(name='model_parameters', model_folder=result_path)"
   ]
  },
  {
   "cell_type": "markdown",
   "metadata": {},
   "source": [
    "## Load network parameters from a pickle file"
   ]
  },
  {
   "cell_type": "code",
   "execution_count": null,
   "metadata": {},
   "outputs": [],
   "source": [
    "model.loadTorchModel(name='model_parameters', model_folder=result_path)"
   ]
  },
  {
   "cell_type": "markdown",
   "metadata": {},
   "source": [
    "## Save the model definition in a json file."
   ]
  },
  {
   "cell_type": "code",
   "execution_count": null,
   "metadata": {},
   "outputs": [],
   "source": [
    "model.saveModel(name='model_definition', model_folder=result_path)"
   ]
  },
  {
   "cell_type": "markdown",
   "metadata": {},
   "source": [
    "## Load the model definition from a json file"
   ]
  },
  {
   "cell_type": "code",
   "execution_count": null,
   "metadata": {},
   "outputs": [],
   "source": [
    "model.loadModel(name='model_definition', model_folder=result_path)"
   ]
  },
  {
   "cell_type": "markdown",
   "metadata": {},
   "source": [
    "## Export pytorch model\n",
    "\n",
    "Exports the neural network model as a stand-alone PyTorch Module class."
   ]
  },
  {
   "cell_type": "code",
   "execution_count": null,
   "metadata": {},
   "outputs": [],
   "source": [
    "model.exportPythonModel(name='pytorch_model', model_folder=result_path)"
   ]
  },
  {
   "cell_type": "markdown",
   "metadata": {},
   "source": [
    "## Import pytorch model inside the NNodely framework"
   ]
  },
  {
   "cell_type": "code",
   "execution_count": null,
   "metadata": {},
   "outputs": [],
   "source": [
    "model.importPythonModel(name='pytorch_model', model_folder=result_path)"
   ]
  },
  {
   "cell_type": "markdown",
   "metadata": {},
   "source": [
    "## Export the network to an ONNX format"
   ]
  },
  {
   "cell_type": "code",
   "execution_count": null,
   "metadata": {},
   "outputs": [],
   "source": [
    "model.exportONNX(name='model_onnx', model_folder=result_path)"
   ]
  },
  {
   "cell_type": "markdown",
   "metadata": {},
   "source": [
    "You can also specify the input and output order inside the network"
   ]
  },
  {
   "cell_type": "code",
   "execution_count": null,
   "metadata": {},
   "outputs": [],
   "source": [
    "model.exportONNX(name='model_onnx', model_folder=result_path, inputs_order=['x', 'y', 'z'], outputs_order=['out'])"
   ]
  },
  {
   "cell_type": "markdown",
   "metadata": {},
   "source": [
    "## ONNX inference\n",
    "\n",
    "You can use a previously exported onnx model to make inference. pass the inputs and the path to the model to run a prediction process.\n",
    "\n",
    "NOTE: All the states variables that are responsible for the recurrent loop must have an extra dimension (4 dimensions) at the beginning corresponding to the number of prediction samples."
   ]
  },
  {
   "cell_type": "code",
   "execution_count": null,
   "metadata": {},
   "outputs": [],
   "source": [
    "import numpy as np\n",
    "data = {'vel':np.random.rand(3,1,1).astype(np.float32), \n",
    "        'brk':np.random.rand(5,3,25,1).astype(np.float32), \n",
    "        'gear':np.random.rand(5,3,1,1).astype(np.float32), \n",
    "        'trq':np.random.rand(5,3,25,1).astype(np.float32), \n",
    "        'alt':np.random.rand(5,3,2,21).astype(np.float32)}\n",
    "inference = Modely().onnxInference(data, result_path)\n",
    "print(inference)"
   ]
  },
  {
   "cell_type": "markdown",
   "metadata": {},
   "source": [
    "## Export training and validation report\n",
    "\n",
    "Generates a PDF report with plots containing the results of the training and validation of the neural network."
   ]
  },
  {
   "cell_type": "code",
   "execution_count": null,
   "metadata": {},
   "outputs": [],
   "source": [
    "model.exportReport(name='model_report', model_folder=result_path)"
   ]
  },
  {
   "cell_type": "markdown",
   "metadata": {},
   "source": [
    "## Example - Longitudinal dynamics of a vehicle (Non recurrent version export)"
   ]
  },
  {
   "cell_type": "code",
   "execution_count": null,
   "metadata": {},
   "outputs": [],
   "source": [
    "import os\n",
    "vehicle = nnodely(visualizer=MPLVisualizer(),seed=2, workspace=os.path.join(os.getcwd(), 'results'))\n",
    "\n",
    "# Dimensions of the layers\n",
    "n  = 25\n",
    "na = 21\n",
    "\n",
    "#Create neural model inputs\n",
    "velocity = Input('vel')\n",
    "brake = Input('brk')\n",
    "gear = Input('gear')\n",
    "torque = Input('trq')\n",
    "altitude = Input('alt',dimensions=na)\n",
    "acc = Input('acc')\n",
    "\n",
    "# Create neural network relations\n",
    "air_drag_force = Linear(b=True)(velocity.last()**2)\n",
    "breaking_force = -Relu(Fir(parameter_init = init_negexp, parameter_init_params={'size_index':0, 'first_value':0.002, 'lambda':3})(brake.sw(n)))\n",
    "gravity_force = Linear(W_init=init_constant, W_init_params={'value':0}, dropout=0.1, W='gravity')(altitude.last())\n",
    "fuzzi_gear = Fuzzify(6, range=[2,7], functions='Rectangular')(gear.last())\n",
    "local_model = LocalModel(input_function=lambda: Fir(parameter_init = init_negexp, parameter_init_params={'size_index':0, 'first_value':0.002, 'lambda':3}))\n",
    "engine_force = local_model(torque.sw(n), fuzzi_gear)\n",
    "\n",
    "# Create neural network output\n",
    "out = Output('accelleration', air_drag_force+breaking_force+gravity_force+engine_force)\n",
    "\n",
    "# Add the neural model to the nnodely structure and neuralization of the model\n",
    "vehicle.addModel('acc',[out])\n",
    "vehicle.addMinimize('acc_error', acc.last(), out, loss_function='rmse')\n",
    "vehicle.neuralizeModel(0.05)\n",
    "\n",
    "## Export the Onnx Model\n",
    "vehicle.exportONNX(['vel','brk','gear','trq','alt'],['accelleration'])"
   ]
  },
  {
   "cell_type": "markdown",
   "metadata": {},
   "source": [
    "## Example - Longitudinal dynamics of a vehicle (Recurrent version export)"
   ]
  },
  {
   "cell_type": "code",
   "execution_count": null,
   "metadata": {},
   "outputs": [],
   "source": [
    "vehicle = nnodely(visualizer=MPLVisualizer(),seed=2, workspace=os.path.join(os.getcwd(), 'results'))\n",
    "\n",
    "# Dimensions of the layers\n",
    "n  = 25\n",
    "na = 21\n",
    "\n",
    "#Create neural model inputs\n",
    "velocity = State('vel')\n",
    "brake = Input('brk')\n",
    "gear = Input('gear')\n",
    "torque = Input('trq')\n",
    "altitude = Input('alt',dimensions=na)\n",
    "acc = Input('acc')\n",
    "\n",
    "# Create neural network relations\n",
    "air_drag_force = Linear(b=True)(velocity.last()**2)\n",
    "breaking_force = -Relu(Fir(W_init = init_negexp, W_init_params={'size_index':0, 'first_value':0.002, 'lambda':3})(brake.sw(n)))\n",
    "gravity_force = Linear(W_init=init_constant, W_init_params={'value':0}, dropout=0.1, W='gravity')(altitude.last())\n",
    "fuzzi_gear = Fuzzify(6, range=[2,7], functions='Rectangular')(gear.last())\n",
    "local_model = LocalModel(input_function=lambda: Fir(W_init = init_negexp, W_init_params={'size_index':0, 'first_value':0.002, 'lambda':3}))\n",
    "engine_force = local_model(torque.sw(n), fuzzi_gear)\n",
    "\n",
    "sum_rel = air_drag_force+breaking_force+gravity_force+engine_force\n",
    "\n",
    "# Closing the loop\n",
    "sum_rel.closedLoop(velocity)\n",
    "\n",
    "# Create neural network output\n",
    "out1 = Output('accelleration', sum_rel)\n",
    "out2 = Output('velout', altitude.sw(2))\n",
    "\n",
    "# Add the neural model to the nnodely structure and neuralization of the model\n",
    "vehicle.addModel('acc',[out1,out2])\n",
    "vehicle.addMinimize('acc_error', acc.last(), out1, loss_function='rmse')\n",
    "vehicle.neuralizeModel(0.05)\n",
    "\n",
    "data = {'vel':np.random.rand(1,1), 'brk':np.random.rand(25,1), 'gear':np.random.rand(1,1), 'trq':np.random.rand(25,1), 'alt':np.random.rand(2,21), 'acc':np.random.rand(1,1)}\n",
    "inference = vehicle(data)\n",
    "\n",
    "## Export the Onnx Model\n",
    "vehicle.exportONNX(['brk','gear','trq','alt','vel'],['accelleration','velout'])"
   ]
  },
  {
   "cell_type": "code",
   "execution_count": null,
   "metadata": {},
   "outputs": [],
   "source": [
    "## Make inference using the onnx model\n",
    "data = {'vel':np.random.rand(3,1,1).astype(np.float32), 'brk':np.random.rand(5,3,25,1).astype(np.float32), 'gear':np.random.rand(5,3,1,1).astype(np.float32), 'trq':np.random.rand(5,3,25,1).astype(np.float32), 'alt':np.random.rand(5,3,2,21).astype(np.float32)}\n",
    "print(Modely().onnxInference(data,'results/onnx/net.onnx'))"
   ]
  }
 ],
 "metadata": {
  "kernelspec": {
   "display_name": "venv",
   "language": "python",
   "name": "python3"
  },
  "language_info": {
   "codemirror_mode": {
    "name": "ipython",
    "version": 3
   },
   "file_extension": ".py",
   "mimetype": "text/x-python",
   "name": "python",
   "nbconvert_exporter": "python",
   "pygments_lexer": "ipython3",
   "version": "3.11.4"
  }
 },
 "nbformat": 4,
 "nbformat_minor": 2
}
