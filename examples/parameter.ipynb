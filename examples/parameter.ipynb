{
 "cells": [
  {
   "cell_type": "markdown",
   "metadata": {},
   "source": [
    "# NNodely Documentation - Constant and Parameter\n",
    "\n",
    "Create custom Constant parameters. NNodely constants are static and not modified during the training process.\n",
    "Create custom Parameter vectors that can also be used in various NNodely blocks. NNodely parameters can be updated during the training process."
   ]
  },
  {
   "cell_type": "code",
   "execution_count": null,
   "metadata": {},
   "outputs": [],
   "source": [
    "# uncomment the command below to install the nnodely package\n",
    "#!pip install nnodely\n",
    "\n",
    "from nnodely import *"
   ]
  },
  {
   "cell_type": "markdown",
   "metadata": {},
   "source": [
    "## Basic Usage\n",
    "\n",
    "Create a Constant 'g' and a Parameter 'k'"
   ]
  },
  {
   "cell_type": "code",
   "execution_count": null,
   "metadata": {},
   "outputs": [],
   "source": [
    "g = Constant('g', values=[9.81])\n",
    "k = Parameter('k', tw=4)"
   ]
  },
  {
   "cell_type": "markdown",
   "metadata": {},
   "source": [
    "## Using a Parameter inside another block\n",
    "\n",
    "Create a parameter k of dimension 3 and use this parameter to initialize the weigths of two Fir Layers.\n",
    "\n",
    "!! Note that the two Fir share now the same weights because they have been initialized with the same Parameter"
   ]
  },
  {
   "cell_type": "code",
   "execution_count": null,
   "metadata": {},
   "outputs": [],
   "source": [
    "x = Input('x')\n",
    "\n",
    "k = Parameter('k', dimensions=3, tw=4)\n",
    "\n",
    "fir1 = Fir(W=k)\n",
    "fir2 = Fir(3, W=k)\n",
    "\n",
    "out = Output('out', fir1(x.tw(4))+fir2(x.tw(2)))"
   ]
  },
  {
   "cell_type": "markdown",
   "metadata": {},
   "source": [
    "## Parametric functions\n",
    "\n",
    "Create two parameters and use them inside a parametric function. The parameters are inizialized with custom values"
   ]
  },
  {
   "cell_type": "code",
   "execution_count": null,
   "metadata": {},
   "outputs": [],
   "source": [
    "x= Input('x')\n",
    "\n",
    "g = Parameter('g', dimensions=3, values=[[4,5,6]])\n",
    "t = Parameter('t', dimensions=3, values=[[1,2,3]])\n",
    "\n",
    "def fun(x, k, t):\n",
    "    return x+(k+t)\n",
    "\n",
    "p = ParamFun(fun, parameters_and_constants=[g,t])\n",
    "\n",
    "out = Output('out', p(x.tw(1)))"
   ]
  },
  {
   "cell_type": "markdown",
   "metadata": {},
   "source": [
    "## Arithmetic functions with Parameters and Constants\n",
    "\n",
    "Constant and Parameter work with all the arithmetic functions. Here are summed together along with the input variable"
   ]
  },
  {
   "cell_type": "code",
   "execution_count": null,
   "metadata": {},
   "outputs": [],
   "source": [
    "g = Parameter('g', sw=1, values=[[1,2,3,4]])\n",
    "o = Constant('o', sw=1, values=[[1,2,3,4]])\n",
    "x = Input('x', dimensions=4)\n",
    "out = Output('out', x.last()+g+o)"
   ]
  },
  {
   "cell_type": "markdown",
   "metadata": {},
   "source": [
    "## SampleTime\n",
    "\n",
    "Create a constant equal to the sample time"
   ]
  },
  {
   "cell_type": "code",
   "execution_count": null,
   "metadata": {},
   "outputs": [],
   "source": [
    "g = SampleTime()\n",
    "x = Input('x1')\n",
    "out = Output('out', x.last() + g)"
   ]
  },
  {
   "cell_type": "markdown",
   "metadata": {},
   "source": [
    "## Initialization functions\n",
    "\n",
    "Initialize a Parameter of dimension 4 using a constant initialization function"
   ]
  },
  {
   "cell_type": "code",
   "execution_count": null,
   "metadata": {},
   "outputs": [],
   "source": [
    "p = Parameter('p', dimensions=4, init=init_constant, init_params={'value':4})"
   ]
  }
 ],
 "metadata": {
  "kernelspec": {
   "display_name": "venv",
   "language": "python",
   "name": "python3"
  },
  "language_info": {
   "name": "python",
   "version": "3.11.4"
  }
 },
 "nbformat": 4,
 "nbformat_minor": 2
}
