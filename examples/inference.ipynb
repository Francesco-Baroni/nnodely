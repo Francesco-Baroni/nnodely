{
 "cells": [
  {
   "cell_type": "markdown",
   "metadata": {},
   "source": [
    "# NNodely Documentation - Inference\n",
    "\n",
    "Here are shown all the modalities in which you can make inference with the model."
   ]
  },
  {
   "cell_type": "code",
   "execution_count": null,
   "metadata": {},
   "outputs": [],
   "source": [
    "# uncomment the command below to install the nnodely package\n",
    "#!pip install nnodely\n",
    "\n",
    "from nnodely import *\n",
    "from nnodely.relation import NeuObj"
   ]
  },
  {
   "cell_type": "markdown",
   "metadata": {},
   "source": [
    "## Simple inference\n",
    "\n",
    "To make inference, just call the nnodely framework class by passing the dictionary of inputs. The model will execute a forward pass and return the outputs of the network.\n",
    "\n",
    "It is mandatory to call the inference with at least 1 possible prediction window for each declared inputs. the framework will predict the maximum possible window given the data"
   ]
  },
  {
   "cell_type": "code",
   "execution_count": null,
   "metadata": {},
   "outputs": [],
   "source": [
    "## Model definition\n",
    "x = Input('x')\n",
    "F = Input('F')\n",
    "\n",
    "px = Parameter('px', tw=0.5, values=[[1.],[1.],[1.],[1.],[1.],[1.],[1.],[1.],[1.],[1.]])\n",
    "pf = Parameter('pf', sw=1, values=[[1.]])\n",
    "next_x = Fir(W=px)(x.tw(0.5))+Fir(W=pf)(F.last())\n",
    "\n",
    "out = Output('next_x', next_x)\n",
    "\n",
    "model = Modely()\n",
    "model.addModel('model',[out])\n",
    "model.neuralizeModel(0.1)"
   ]
  },
  {
   "cell_type": "code",
   "execution_count": null,
   "metadata": {},
   "outputs": [],
   "source": [
    "## Inference\n",
    "results = model(inputs={'F':[[9]],'x':[[1],[2],[3],[4],[5],[6],[7],[8],[9],[10],[11]]})\n",
    "print(results)"
   ]
  },
  {
   "cell_type": "code",
   "execution_count": null,
   "metadata": {},
   "outputs": [],
   "source": [
    "results = model(inputs={'F':[[5],[4],[9]],'x':[[1],[2],[3],[4],[5],[6],[7],[8],[9],[10],[11],[12],[13]]})\n",
    "print(results)"
   ]
  },
  {
   "cell_type": "markdown",
   "metadata": {},
   "source": [
    "## Inference with a sampled data\n",
    "\n",
    "Using the option sampled=True the inference window is left to the user to define by passing every sampling input."
   ]
  },
  {
   "cell_type": "code",
   "execution_count": null,
   "metadata": {},
   "outputs": [],
   "source": [
    "results = model(inputs={'F':[[5],[2]],'x':[[1,2,3,4,5,6,7,8,9,10,11],[12,13,14,15,16,17,18,19,20,21,22]]}, sampled=True)\n",
    "print(results)"
   ]
  },
  {
   "cell_type": "markdown",
   "metadata": {},
   "source": [
    "## Closed Loop and Connect during Inference\n",
    "\n",
    "During inference time you can define closed loop and connect relations between the variables."
   ]
  },
  {
   "cell_type": "code",
   "execution_count": null,
   "metadata": {},
   "outputs": [],
   "source": [
    "NeuObj.clearNames()\n",
    "input1 = Input('in1')\n",
    "W = Parameter('W', sw=3, values=[[1], [2], [3]])\n",
    "out = Output('out',Fir(W=W)(input1.sw(3)))\n",
    "\n",
    "model = Modely(visualizer=None, seed=42)\n",
    "model.addModel('model', [out])\n",
    "model.neuralizeModel()\n",
    "\n",
    "result = model({'in1': [1, 2, 3]}, closed_loop={'in1':'out'})\n",
    "print(result)"
   ]
  },
  {
   "cell_type": "code",
   "execution_count": null,
   "metadata": {},
   "outputs": [],
   "source": [
    "input2 = Input('in2')\n",
    "K = Parameter('K', sw=3, values=[[1], [2], [3]])\n",
    "out2 = Output('out2',Fir(W=K)(input2.sw(3)))\n",
    "\n",
    "model.addModel('model2', [out2])\n",
    "model.neuralizeModel()\n",
    "\n",
    "result = model({'in1': [1, 2, 3]}, connect={'out':'in2'})\n",
    "print(result)"
   ]
  },
  {
   "cell_type": "markdown",
   "metadata": {},
   "source": [
    "## Recurrent inference with prediction samples\n",
    "\n",
    "to do multiple recurrent inference with the state variables just decide the number of samples to predict using the attribute 'prediction_samples'.\n",
    "\n",
    "it can also be 'auto' meaning that the recurrent inference will continue until there are inputs available."
   ]
  },
  {
   "cell_type": "code",
   "execution_count": null,
   "metadata": {},
   "outputs": [],
   "source": [
    "result = model({'in1': [1, 2, 3, 4, 5]},closed_loop={'in1':'out'}, prediction_samples=3)\n",
    "print(result)"
   ]
  },
  {
   "cell_type": "markdown",
   "metadata": {},
   "source": [
    "## Recurrent inference with number of samples\n",
    "\n",
    "By specifying the number of samples when doing inference with states variables\n",
    "\n",
    "The number of samples will specify for how many steps the inference must go on. This can be done only when using states variables "
   ]
  },
  {
   "cell_type": "code",
   "execution_count": null,
   "metadata": {},
   "outputs": [],
   "source": [
    "result = model({'in1': [1, 2, 3, 4, 5]},closed_loop={'in1':'out'}, prediction_samples=3, num_of_samples = 5)"
   ]
  }
 ],
 "metadata": {
  "kernelspec": {
   "display_name": "venv",
   "language": "python",
   "name": "python3"
  },
  "language_info": {
   "name": "python",
   "version": "3.11.4"
  }
 },
 "nbformat": 4,
 "nbformat_minor": 2
}
