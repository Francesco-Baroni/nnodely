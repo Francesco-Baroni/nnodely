{
 "cells": [
  {
   "cell_type": "markdown",
   "metadata": {},
   "source": [
    "# NNodely Documentation - Inference\n",
    "\n",
    "Here are shown all the modalities in which you can make inference with the model."
   ]
  },
  {
   "cell_type": "code",
   "execution_count": 1,
   "metadata": {},
   "outputs": [
    {
     "name": "stdout",
     "output_type": "stream",
     "text": [
      ">>>>>>>>>>>>>>>>>>>>>>>>>>>>>>-- nnodely_v1.5.0 --<<<<<<<<<<<<<<<<<<<<<<<<<<<<<<\n"
     ]
    }
   ],
   "source": [
    "# uncomment the command below to install the nnodely package\n",
    "#!pip install nnodely\n",
    "\n",
    "from nnodely import *"
   ]
  },
  {
   "cell_type": "markdown",
   "metadata": {},
   "source": [
    "## Simple inference\n",
    "\n",
    "To make inference, just call the nnodely framework class by passing the dictionary of inputs. The model will execute a forward pass and return the outputs of the network.\n",
    "\n",
    "It is mandatory to call the inference with at least 1 possible prediction window for each declared inputs. the framework will predict the maximum possible window given the data"
   ]
  },
  {
   "cell_type": "code",
   "execution_count": 2,
   "metadata": {},
   "outputs": [
    {
     "name": "stdout",
     "output_type": "stream",
     "text": [
      "\u001b[1;32m================================ nnodely Model =================================\u001b[0m\n",
      "\u001b[32m{'Constants': {},\n",
      " 'Functions': {},\n",
      " 'Info': {'SampleTime': 0.05,\n",
      "          'nnodely_version': '1.5.0',\n",
      "          'ns': [10, 0],\n",
      "          'ntot': 10,\n",
      "          'num_parameters': 11},\n",
      " 'Inputs': {'F': {'dim': 1, 'ns': [1, 0], 'ntot': 1, 'sw': [-1, 0]},\n",
      "            'x': {'dim': 1, 'ns': [10, 0], 'ntot': 10, 'tw': [-0.5, 0]}},\n",
      " 'Models': 'model',\n",
      " 'Outputs': {'next_x': 'Add6'},\n",
      " 'Parameters': {'pf': {'dim': 1,\n",
      "                       'init_values': [[1.0]],\n",
      "                       'sw': 1,\n",
      "                       'values': [[1.0]]},\n",
      "                'px': {'dim': 1,\n",
      "                       'init_values': [[1.0],\n",
      "                                       [1.0],\n",
      "                                       [1.0],\n",
      "                                       [1.0],\n",
      "                                       [1.0],\n",
      "                                       [1.0],\n",
      "                                       [1.0],\n",
      "                                       [1.0],\n",
      "                                       [1.0],\n",
      "                                       [1.0]],\n",
      "                       'tw': 0.5,\n",
      "                       'values': [[1.0],\n",
      "                                  [1.0],\n",
      "                                  [1.0],\n",
      "                                  [1.0],\n",
      "                                  [1.0],\n",
      "                                  [1.0],\n",
      "                                  [1.0],\n",
      "                                  [1.0],\n",
      "                                  [1.0],\n",
      "                                  [1.0]]}},\n",
      " 'Relations': {'Add6': ['Add', ['Fir2', 'Fir5']],\n",
      "               'Fir2': ['Fir', ['TimePart1'], 'px', None, 0],\n",
      "               'Fir5': ['Fir', ['SamplePart4'], 'pf', None, 0],\n",
      "               'SamplePart4': ['SamplePart', ['F'], -1, [-1, 0]],\n",
      "               'TimePart1': ['TimePart', ['x'], -1, [-0.5, 0]]}}\u001b[0m\n",
      "\u001b[32m================================================================================\u001b[0m\n"
     ]
    }
   ],
   "source": [
    "## Model definition\n",
    "x = Input('x')\n",
    "F = Input('F')\n",
    "\n",
    "px = Parameter('px', tw=0.5, values=[[1.],[1.],[1.],[1.],[1.],[1.],[1.],[1.],[1.],[1.]])\n",
    "pf = Parameter('pf', sw=1, values=[[1.]])\n",
    "next_x = Fir(W=px)(x.tw(0.5))+Fir(W=pf)(F.last())\n",
    "\n",
    "out = Output('next_x', next_x)\n",
    "\n",
    "model = Modely()\n",
    "model.addModel('model',[out])\n",
    "model.neuralizeModel(0.05)"
   ]
  },
  {
   "cell_type": "code",
   "execution_count": 3,
   "metadata": {},
   "outputs": [
    {
     "name": "stdout",
     "output_type": "stream",
     "text": [
      "{'next_x': [64.0]}\n"
     ]
    }
   ],
   "source": [
    "## Inference\n",
    "results = model(inputs={'F':[[9]],'x':[[1],[2],[3],[4],[5],[6],[7],[8],[9],[10],[11]]})\n",
    "print(results)"
   ]
  },
  {
   "cell_type": "code",
   "execution_count": 4,
   "metadata": {},
   "outputs": [
    {
     "name": "stdout",
     "output_type": "stream",
     "text": [
      "{'next_x': [60.0, 69.0, 84.0]}\n"
     ]
    }
   ],
   "source": [
    "results = model(inputs={'F':[[5],[4],[9]],'x':[[1],[2],[3],[4],[5],[6],[7],[8],[9],[10],[11],[12],[13]]})\n",
    "print(results)"
   ]
  },
  {
   "cell_type": "markdown",
   "metadata": {},
   "source": [
    "## Inference with a sampled data\n",
    "\n",
    "Using the option sampled=True the inference window is left to the user to define by passing every sampling input."
   ]
  },
  {
   "cell_type": "code",
   "execution_count": 5,
   "metadata": {},
   "outputs": [
    {
     "name": "stdout",
     "output_type": "stream",
     "text": [
      "{'next_x': [62.0, []]}\n"
     ]
    }
   ],
   "source": [
    "results = model(inputs={'F':[[5],[2]],'x':[[1,2,3,4,5,6,7,8,9,10],[12,13,14,15,16,17,18,19,20,21]]}, sampled=True)\n",
    "print(results)"
   ]
  },
  {
   "cell_type": "markdown",
   "metadata": {},
   "source": [
    "## Closed Loop and Connect during Inference\n",
    "\n",
    "During inference time you can define closed loop and connect relations between the variables."
   ]
  },
  {
   "cell_type": "code",
   "execution_count": 6,
   "metadata": {},
   "outputs": [
    {
     "name": "stdout",
     "output_type": "stream",
     "text": [
      "\u001b[1;32m================================ nnodely Model =================================\u001b[0m\n",
      "\u001b[32m{'Constants': {},\n",
      " 'Functions': {},\n",
      " 'Info': {'SampleTime': 1,\n",
      "          'nnodely_version': '1.5.0',\n",
      "          'ns': [3, 0],\n",
      "          'ntot': 3,\n",
      "          'num_parameters': 3},\n",
      " 'Inputs': {'in1': {'dim': 1, 'ns': [3, 0], 'ntot': 3, 'sw': [-3, 0]}},\n",
      " 'Models': 'model',\n",
      " 'Outputs': {'out': 'Fir9'},\n",
      " 'Parameters': {'W': {'dim': 1,\n",
      "                      'init_values': [[1.0], [2.0], [3.0]],\n",
      "                      'sw': 3,\n",
      "                      'values': [[1.0], [2.0], [3.0]]}},\n",
      " 'Relations': {'Fir9': ['Fir', ['SamplePart8'], 'W', None, 0],\n",
      "               'SamplePart8': ['SamplePart', ['in1'], -1, [-3, 0]]}}\u001b[0m\n",
      "\u001b[32m================================================================================\u001b[0m\n",
      "{'out': [14.0]}\n"
     ]
    }
   ],
   "source": [
    "input1 = Input('in1')\n",
    "W = Parameter('W', sw=3, values=[[1], [2], [3]])\n",
    "out = Output('out',Fir(W=W)(input1.sw(3)))\n",
    "\n",
    "model = Modely(visualizer=TextVisualizer(), seed=42)\n",
    "model.addModel('model', [out])\n",
    "model.neuralizeModel()\n",
    "\n",
    "result = model({'in1': [1, 2, 3]}, closed_loop={'in1':'out'})\n",
    "print(result)"
   ]
  },
  {
   "cell_type": "code",
   "execution_count": 7,
   "metadata": {},
   "outputs": [
    {
     "name": "stdout",
     "output_type": "stream",
     "text": [
      "\u001b[1;32m================================ nnodely Model =================================\u001b[0m\n",
      "\u001b[32m{'Constants': {},\n",
      " 'Functions': {},\n",
      " 'Info': {'SampleTime': 1,\n",
      "          'nnodely_version': '1.5.0',\n",
      "          'ns': [3, 0],\n",
      "          'ntot': 3,\n",
      "          'num_parameters': 6},\n",
      " 'Inputs': {'in1': {'dim': 1, 'ns': [3, 0], 'ntot': 3, 'sw': [-3, 0]},\n",
      "            'in2': {'dim': 1, 'ns': [3, 0], 'ntot': 3, 'sw': [-3, 0]}},\n",
      " 'Models': {'model': {'Constants': [],\n",
      "                      'Functions': [],\n",
      "                      'Inputs': ['in1'],\n",
      "                      'Outputs': ['out'],\n",
      "                      'Parameters': ['W'],\n",
      "                      'Relations': ['SamplePart8', 'Fir9']},\n",
      "            'model2': {'Constants': [],\n",
      "                       'Functions': [],\n",
      "                       'Inputs': ['in2'],\n",
      "                       'Outputs': ['out2'],\n",
      "                       'Parameters': ['K'],\n",
      "                       'Relations': ['SamplePart11', 'Fir12']}},\n",
      " 'Outputs': {'out': 'Fir9', 'out2': 'Fir12'},\n",
      " 'Parameters': {'K': {'dim': 1,\n",
      "                      'init_values': [[1.0], [2.0], [3.0]],\n",
      "                      'sw': 3,\n",
      "                      'values': [[1.0], [2.0], [3.0]]},\n",
      "                'W': {'dim': 1,\n",
      "                      'init_values': [[1.0], [2.0], [3.0]],\n",
      "                      'sw': 3,\n",
      "                      'values': [[1.0], [2.0], [3.0]]}},\n",
      " 'Relations': {'Fir12': ['Fir', ['SamplePart11'], 'K', None, 0],\n",
      "               'Fir9': ['Fir', ['SamplePart8'], 'W', None, 0],\n",
      "               'SamplePart11': ['SamplePart', ['in2'], -1, [-3, 0]],\n",
      "               'SamplePart8': ['SamplePart', ['in1'], -1, [-3, 0]]}}\u001b[0m\n",
      "\u001b[32m================================================================================\u001b[0m\n",
      "{'out2': [42.0], 'out': [14.0]}\n"
     ]
    }
   ],
   "source": [
    "input2 = Input('in2')\n",
    "K = Parameter('K', sw=3, values=[[1], [2], [3]])\n",
    "out2 = Output('out2',Fir(W=K)(input2.sw(3)))\n",
    "\n",
    "model.addModel('model2', [out2])\n",
    "model.neuralizeModel()\n",
    "\n",
    "result = model(inputs={'in1': [1, 2, 3]}, connect={'in2':'out'})\n",
    "print(result)"
   ]
  },
  {
   "cell_type": "markdown",
   "metadata": {},
   "source": [
    "## Recurrent inference with prediction samples\n",
    "\n",
    "to do multiple recurrent inference with the state variables just decide the number of samples to predict using the attribute 'prediction_samples'.\n",
    "\n",
    "it can also be 'auto' meaning that the recurrent inference will continue until there are inputs available."
   ]
  },
  {
   "cell_type": "code",
   "execution_count": 8,
   "metadata": {},
   "outputs": [
    {
     "name": "stdout",
     "output_type": "stream",
     "text": [
      "{'out2': [0.0, 0.0, 0.0], 'out': [14.0, 50.0, 181.0]}\n"
     ]
    }
   ],
   "source": [
    "result = model({'in1': [1, 2, 3, 4, 5]},closed_loop={'in1':'out'}, prediction_samples=3)\n",
    "print(result)"
   ]
  },
  {
   "cell_type": "markdown",
   "metadata": {},
   "source": [
    "## Recurrent inference with number of samples\n",
    "\n",
    "By specifying the number of samples when doing inference with states variables\n",
    "\n",
    "The number of samples will specify for how many steps the inference must go on. This can be done only when using states variables "
   ]
  },
  {
   "cell_type": "code",
   "execution_count": 9,
   "metadata": {},
   "outputs": [
    {
     "name": "stdout",
     "output_type": "stream",
     "text": [
      "{'out2': [0.0, 0.0, 0.0, 0.0, 0.0], 'out': [14.0, 50.0, 181.0, 657.0, 5.0]}\n"
     ]
    }
   ],
   "source": [
    "result = model({'in1': [1, 2, 3, 4, 5]},closed_loop={'in1':'out'}, prediction_samples=3, num_of_samples = 5)\n",
    "print(result)"
   ]
  }
 ],
 "metadata": {
  "kernelspec": {
   "display_name": "venv",
   "language": "python",
   "name": "python3"
  },
  "language_info": {
   "codemirror_mode": {
    "name": "ipython",
    "version": 3
   },
   "file_extension": ".py",
   "mimetype": "text/x-python",
   "name": "python",
   "nbconvert_exporter": "python",
   "pygments_lexer": "ipython3",
   "version": "3.11.4"
  }
 },
 "nbformat": 4,
 "nbformat_minor": 2
}
